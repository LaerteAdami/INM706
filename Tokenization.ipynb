{
 "cells": [
  {
   "cell_type": "code",
   "execution_count": 1,
   "id": "1ee8a30f",
   "metadata": {},
   "outputs": [
    {
     "name": "stdout",
     "output_type": "stream",
     "text": [
      "Device: cuda\n"
     ]
    }
   ],
   "source": [
    "# from __future__ import unicode_literals, print_function, division\n",
    "from io import open\n",
    "import unicodedata\n",
    "import string\n",
    "import re\n",
    "import random\n",
    "import csv\n",
    "\n",
    "import torch\n",
    "import torch.nn as nn\n",
    "from torch import optim\n",
    "import torch.nn.functional as F\n",
    "\n",
    "device = torch.device(\"cuda\" if torch.cuda.is_available() else \"cpu\")\n",
    "print(f'Device: {device}')"
   ]
  },
  {
   "cell_type": "code",
   "execution_count": 2,
   "id": "22c281da",
   "metadata": {},
   "outputs": [
    {
     "ename": "FileNotFoundError",
     "evalue": "[Errno 2] No such file or directory: 'Sentence pairs in English-Italian - 2023-03-02.tsv'",
     "output_type": "error",
     "traceback": [
      "\u001b[0;31m---------------------------------------------------------------------------\u001b[0m",
      "\u001b[0;31mFileNotFoundError\u001b[0m                         Traceback (most recent call last)",
      "\u001b[0;32m/tmp/ipykernel_189517/3721603400.py\u001b[0m in \u001b[0;36m<module>\u001b[0;34m\u001b[0m\n\u001b[0;32m----> 1\u001b[0;31m \u001b[0;32mwith\u001b[0m \u001b[0mopen\u001b[0m\u001b[0;34m(\u001b[0m\u001b[0;34m\"Sentence pairs in English-Italian - 2023-03-02.tsv\"\u001b[0m\u001b[0;34m,\u001b[0m \u001b[0;34m'r'\u001b[0m\u001b[0;34m,\u001b[0m \u001b[0mencoding\u001b[0m\u001b[0;34m=\u001b[0m\u001b[0;34m'utf-8'\u001b[0m\u001b[0;34m)\u001b[0m \u001b[0;32mas\u001b[0m \u001b[0mf\u001b[0m\u001b[0;34m:\u001b[0m\u001b[0;34m\u001b[0m\u001b[0;34m\u001b[0m\u001b[0m\n\u001b[0m\u001b[1;32m      2\u001b[0m     \u001b[0mf\u001b[0m \u001b[0;34m=\u001b[0m \u001b[0mcsv\u001b[0m\u001b[0;34m.\u001b[0m\u001b[0mreader\u001b[0m\u001b[0;34m(\u001b[0m\u001b[0mf\u001b[0m\u001b[0;34m,\u001b[0m \u001b[0mdelimiter\u001b[0m\u001b[0;34m=\u001b[0m\u001b[0;34m'\\t'\u001b[0m\u001b[0;34m)\u001b[0m\u001b[0;34m\u001b[0m\u001b[0;34m\u001b[0m\u001b[0m\n\u001b[1;32m      3\u001b[0m     \u001b[0mdata\u001b[0m \u001b[0;34m=\u001b[0m \u001b[0;34m[\u001b[0m\u001b[0mline\u001b[0m \u001b[0;32mfor\u001b[0m \u001b[0mline\u001b[0m \u001b[0;32min\u001b[0m \u001b[0mf\u001b[0m\u001b[0;34m]\u001b[0m\u001b[0;34m\u001b[0m\u001b[0;34m\u001b[0m\u001b[0m\n",
      "\u001b[0;31mFileNotFoundError\u001b[0m: [Errno 2] No such file or directory: 'Sentence pairs in English-Italian - 2023-03-02.tsv'"
     ]
    }
   ],
   "source": [
    "with open(\"Sentence pairs in English-Italian - 2023-03-02.tsv\", 'r', encoding='utf-8') as f:\n",
    "    f = csv.reader(f, delimiter='\\t')\n",
    "    data = [line for line in f]\n"
   ]
  },
  {
   "cell_type": "code",
   "execution_count": 22,
   "id": "06eed397",
   "metadata": {},
   "outputs": [
    {
     "name": "stdout",
     "output_type": "stream",
     "text": [
      "Muiriel is 20 now. Muiriel ha 20 anni adesso.\n"
     ]
    }
   ],
   "source": [
    "eng, ita = [l[1] for l in data], [l[3] for l in data]\n",
    "print(eng[5], ita[5])"
   ]
  },
  {
   "cell_type": "code",
   "execution_count": 85,
   "id": "e420e924",
   "metadata": {},
   "outputs": [],
   "source": [
    "def tokenize(sentence):\n",
    "    sentence = re.sub(r'[,.:;\\-\"\"!%&?\\/]', r' ', sentence)\n",
    "    sentence = re.sub(r'([0-9]+) *([€$£])', r'\\2\\1', sentence)\n",
    "    sentence = sentence.strip()\n",
    "    return re.split(r'[ \\']+', sentence)"
   ]
  },
  {
   "cell_type": "code",
   "execution_count": 86,
   "id": "0cb3c918",
   "metadata": {},
   "outputs": [
    {
     "data": {
      "text/plain": [
       "['Io', 'guadagno', '€100', 'al', 'giorno']"
      ]
     },
     "execution_count": 86,
     "metadata": {},
     "output_type": "execute_result"
    }
   ],
   "source": [
    "tokenize(\" L'educazione in questo mondo  mi delude. \")\n",
    "tokenize('Io guadagno 100 € al giorno.')"
   ]
  },
  {
   "cell_type": "code",
   "execution_count": 91,
   "id": "b4a4712e",
   "metadata": {},
   "outputs": [
    {
     "data": {
      "text/plain": [
       "['Today', 'is', 'June', '18th', 'and', 'it', 'is', 'Muiriel', 's', 'birthday']"
      ]
     },
     "execution_count": 91,
     "metadata": {},
     "output_type": "execute_result"
    }
   ],
   "source": [
    "eng_tk, ita_tk = [tokenize(s) for s in eng], [tokenize(s) for s in ita]\n"
   ]
  },
  {
   "cell_type": "code",
   "execution_count": 99,
   "id": "b01835f9",
   "metadata": {},
   "outputs": [
    {
     "data": {
      "text/plain": [
       "['Am', 'I', 'handsome', 'or', 'not']"
      ]
     },
     "execution_count": 99,
     "metadata": {},
     "output_type": "execute_result"
    }
   ],
   "source": [
    "eng_tk[34679]"
   ]
  },
  {
   "cell_type": "code",
   "execution_count": null,
   "id": "1c20feb6",
   "metadata": {},
   "outputs": [],
   "source": []
  }
 ],
 "metadata": {
  "kernelspec": {
   "display_name": "Python 3 (ipykernel)",
   "language": "python",
   "name": "python3"
  },
  "language_info": {
   "codemirror_mode": {
    "name": "ipython",
    "version": 3
   },
   "file_extension": ".py",
   "mimetype": "text/x-python",
   "name": "python",
   "nbconvert_exporter": "python",
   "pygments_lexer": "ipython3",
   "version": "3.9.5"
  }
 },
 "nbformat": 4,
 "nbformat_minor": 5
}
