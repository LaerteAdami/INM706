{
 "cells": [
  {
   "cell_type": "markdown",
   "id": "ff82abcb-2ad2-4f6f-ac3e-d1353a6dcc6b",
   "metadata": {
    "tags": []
   },
   "source": [
    "# INM706 - Deep Learning for Sequence Analysis\n",
    "\n",
    "Authors: Laerte Adami - Elisa Troschka\n",
    "\n",
    "Source: \n",
    "- https://towardsdatascience.com/a-comprehensive-guide-to-neural-machine-translation-using-seq2sequence-modelling-using-pytorch-41c9b84ba350#30b6\n",
    "- https://pytorch.org/tutorials/intermediate/seq2seq_translation_tutorial.html#evaluation"
   ]
  },
  {
   "cell_type": "code",
   "execution_count": 5,
   "id": "c0674a3c-32e3-4d42-88e0-b233d86412dc",
   "metadata": {},
   "outputs": [
    {
     "name": "stdout",
     "output_type": "stream",
     "text": [
      "English vocabulary size: 583\n",
      "Italian vocabulary size: 822\n",
      "Completed epoch: 1, loss: 5.797\n",
      "Completed epoch: 2, loss: 3.587\n",
      "Completed epoch: 3, loss: 2.684\n",
      "Completed epoch: 4, loss: 2.519\n",
      "Completed epoch: 5, loss: 2.447\n",
      "Completed epoch: 6, loss: 2.376\n",
      "Completed epoch: 7, loss: 2.32\n",
      "Completed epoch: 8, loss: 2.28\n",
      "Completed epoch: 9, loss: 2.24\n",
      "Completed epoch: 10, loss: 2.208\n",
      "Completed epoch: 11, loss: 2.176\n",
      "Completed epoch: 12, loss: 2.144\n",
      "Completed epoch: 13, loss: 2.107\n",
      "Completed epoch: 14, loss: 2.071\n",
      "Completed epoch: 15, loss: 2.037\n",
      "Completed epoch: 16, loss: 2.005\n",
      "Completed epoch: 17, loss: 1.976\n",
      "Completed epoch: 18, loss: 1.953\n",
      "Completed epoch: 19, loss: 1.942\n",
      "Completed epoch: 20, loss: 1.915\n",
      "Completed epoch: 21, loss: 1.894\n",
      "Completed epoch: 22, loss: 1.86\n",
      "Completed epoch: 23, loss: 1.84\n",
      "Completed epoch: 24, loss: 1.818\n",
      "Completed epoch: 25, loss: 1.8\n",
      "Completed epoch: 26, loss: 1.78\n",
      "Completed epoch: 27, loss: 1.77\n",
      "Completed epoch: 28, loss: 1.765\n",
      "Completed epoch: 29, loss: 1.742\n",
      "Completed epoch: 30, loss: 1.724\n",
      "--------------------------------\n",
      "Time required: 25.455907821655273\n"
     ]
    },
    {
     "data": {
      "image/png": "[encoded data removed]",
      "text/plain": [
       "<Figure size 432x288 with 1 Axes>"
      ]
     },
     "metadata": {
      "needs_background": "light"
     },
     "output_type": "display_data"
    }
   ],
   "source": [
    "import time\n",
    "from Utilities.lstmHandler import EncoderLSTM, DecoderLSTM\n",
    "from Utilities.modelHandler import LSTModel\n",
    "from Utilities.LanguageDataset import LanguageDataset#, my_collate_fn\n",
    "from torch.utils.data import DataLoader\n",
    "import matplotlib.pyplot as plt\n",
    "\n",
    "import torch\n",
    "import torch.nn as nn\n",
    "from torch.nn import CrossEntropyLoss as CEL\n",
    "from torch.optim import Adam\n",
    "\n",
    "device = torch.device(\"cuda\" if torch.cuda.is_available() else \"cpu\")\n",
    "device = torch.device(\"cpu\")\n",
    "\n",
    "plt.rcParams['font.size'] = 17\n",
    "\n",
    "start_token = '<BoS>'\n",
    "end_token = '<EoS>'\n",
    "\n",
    "dataset = LanguageDataset(data_path=\"Data/eng_ita.tsv\", start_token = start_token, end_token = end_token)\n",
    "\n",
    "embedding_size = 256\n",
    "\n",
    "loss_func = CEL()\n",
    "\n",
    "end_index = dataset.from_ita[end_token]\n",
    "start_index = dataset.from_ita[start_token]\n",
    "\n",
    "trainloader = DataLoader(dataset, batch_size = 100)\n",
    "\n",
    "print(\"English vocabulary size: {}\".format(dataset.eng_voc_size))\n",
    "print(\"Italian vocabulary size: {}\".format(dataset.ita_voc_size))\n",
    "\n",
    "encoder = EncoderLSTM(vocabulary_size = dataset.eng_voc_size,\n",
    "                     embedding_size = embedding_size,\n",
    "                     num_layers = 1, \n",
    "                     bidirectional = False)\n",
    "\n",
    "decoder = DecoderLSTM(vocabulary_size = dataset.ita_voc_size,\n",
    "                     embedding_size = embedding_size,\n",
    "                     num_layers = 1, \n",
    "                     bidirectional = False)\n",
    "\n",
    "model = LSTModel(encoder = encoder, \n",
    "                 decoder = decoder, \n",
    "                 encoder_optimizer = Adam(encoder.parameters()), \n",
    "                 decoder_optimizer = Adam(decoder.parameters()),\n",
    "                 loss_function = loss_func, \n",
    "                 eos_token = end_index, \n",
    "                 bos_token = start_index)\n",
    "\n",
    "start_time = time.time()\n",
    "L = model.train_model(trainloader, \n",
    "                  max_epochs = 30,\n",
    "                  save_every_epochs = 20,\n",
    "                  ckp_name = 'test')\n",
    "print(\"--------------------------------\")\n",
    "print(\"Time required: {}\".format(time.time()-start_time))\n",
    "      \n",
    "fig, ax = plt.subplots()\n",
    "ax.plot(L, linewidth = 3)\n",
    "ax.set_xlabel(\"Epochs\")\n",
    "ax.set_ylabel(\"Loss\");"
   ]
  },
  {
   "cell_type": "markdown",
   "id": "1ded7f08-8449-430a-894e-0b25c1257349",
   "metadata": {},
   "source": [
    "## Training"
   ]
  },
  {
   "cell_type": "code",
   "execution_count": 6,
   "id": "1bc40e5f-0eb9-4e39-a34c-9f45b926d501",
   "metadata": {},
   "outputs": [],
   "source": [
    "X, y, trans = model.evaluate_model(trainloader, max_length=20)# enc_ckp = \"test_enc_10.pth\", dec_ckp=\"test_dec_10.pth\")"
   ]
  },
  {
   "cell_type": "code",
   "execution_count": null,
   "id": "cc7aafb9-0355-4756-aa2b-47fbdc15a439",
   "metadata": {},
   "outputs": [],
   "source": []
  },
  {
   "cell_type": "code",
   "execution_count": 10,
   "id": "07bbb962-e74e-44ee-819e-e3b017ba897b",
   "metadata": {},
   "outputs": [
    {
     "name": "stdout",
     "output_type": "stream",
     "text": [
      "English:  <BoS> Today is June 18th and it is Muiriel s birthday <UNK> <UNK> <UNK> <UNK> <UNK> <UNK> <UNK> <UNK> <EoS>\n",
      "Italian:  <BoS> Oggi è il 18 di giugno ed è il compleanno di Muiriel <UNK> <UNK> <UNK> <UNK> <UNK> <UNK> <EoS>\n",
      "Translation:  <BoS> Non non che che che che non <UNK> <UNK> <UNK> <UNK> <UNK> <UNK> <UNK> <UNK> <UNK> <UNK> <UNK> <EoS>\n"
     ]
    }
   ],
   "source": [
    "ids = 4\n",
    "print(\"English: \" + dataset.translate(X[ids],'eng'))\n",
    "print(\"Italian: \" + dataset.translate(y[ids],'ita'))\n",
    "print(\"Translation: \" + dataset.translate(trans[ids],'ita'))"
   ]
  },
  {
   "cell_type": "code",
   "execution_count": 22,
   "id": "151727aa-4cea-4463-bb00-d0423b5dd407",
   "metadata": {},
   "outputs": [
    {
     "name": "stdout",
     "output_type": "stream",
     "text": [
      "English:  <BoS> You should sleep <EoS>\n",
      "Italian:  <BoS> Dovrebbe dormire <EoS>\n",
      "Translation:  <BoS> Dovresti dormire <EoS>\n"
     ]
    }
   ],
   "source": [
    "sent = result[67]\n",
    "print(\"English: \" + dataset.translate(sent[0],'eng'))\n",
    "print(\"Italian: \" + dataset.translate(sent[1],'ita'))\n",
    "print(\"Translation: \" + dataset.translate(sent[2],'ita'))"
   ]
  },
  {
   "cell_type": "code",
   "execution_count": 23,
   "id": "4cbf814a-beaf-42f3-813d-efdc885f568c",
   "metadata": {},
   "outputs": [
    {
     "name": "stdout",
     "output_type": "stream",
     "text": [
      "English:  <BoS> You re in better shape than I am <EoS>\n",
      "Italian:  <BoS> Tu sei più in forma di me <EoS>\n",
      "Translation:  <BoS> Voi più in in di me <EoS>\n"
     ]
    }
   ],
   "source": [
    "sent = result[34]\n",
    "print(\"English: \" + dataset.translate(sent[0],'eng'))\n",
    "print(\"Italian: \" + dataset.translate(sent[1],'ita'))\n",
    "print(\"Translation: \" + dataset.translate(sent[2],'ita'))"
   ]
  },
  {
   "cell_type": "code",
   "execution_count": null,
   "id": "7f691aec-ec58-49af-8d03-ec179492d7eb",
   "metadata": {},
   "outputs": [],
   "source": []
  }
 ],
 "metadata": {
  "kernelspec": {
   "display_name": "Python 3 (ipykernel)",
   "language": "python",
   "name": "python3"
  },
  "language_info": {
   "codemirror_mode": {
    "name": "ipython",
    "version": 3
   },
   "file_extension": ".py",
   "mimetype": "text/x-python",
   "name": "python",
   "nbconvert_exporter": "python",
   "pygments_lexer": "ipython3",
   "version": "3.9.5"
  }
 },
 "nbformat": 4,
 "nbformat_minor": 5
}
