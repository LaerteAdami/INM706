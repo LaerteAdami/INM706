{
 "cells": [
  {
   "cell_type": "markdown",
   "id": "ff82abcb-2ad2-4f6f-ac3e-d1353a6dcc6b",
   "metadata": {
    "tags": []
   },
   "source": [
    "# INM706 - Deep Learning for Sequence Analysis\n",
    "\n",
    "Authors: Laerte Adami - Elisa Troschka\n",
    "\n",
    "Source: \n",
    "- https://towardsdatascience.com/a-comprehensive-guide-to-neural-machine-translation-using-seq2sequence-modelling-using-pytorch-41c9b84ba350#30b6\n",
    "- https://pytorch.org/tutorials/intermediate/seq2seq_translation_tutorial.html#evaluation\n",
    "\n",
    "Blue Score:\n",
    "- https://towardsdatascience.com/foundations-of-nlp-explained-bleu-score-and-wer-metrics-1a5ba06d812b"
   ]
  },
  {
   "cell_type": "code",
   "execution_count": 3,
   "id": "1d08d81c-49ae-4da4-97e6-ca5e10e9a2fa",
   "metadata": {},
   "outputs": [],
   "source": [
    "# Custom functionalities\n",
    "from Utilities.lstmHandler import EncoderLSTM, DecoderLSTM, AttentionDecoderLSTM\n",
    "from Utilities.modelHandler import LSTModel\n",
    "from Utilities.LanguageDataset import LanguageDataset\n",
    "#from Utilities.TorchtextMetrics import bleu_score\n",
    "\n",
    "import time\n",
    "import torch\n",
    "import torch.nn as nn\n",
    "from torch.optim import Adam\n",
    "from torch.utils.data import DataLoader\n",
    "from torch.nn import CrossEntropyLoss as CEL\n",
    "import matplotlib.pyplot as plt\n",
    "\n",
    "device = torch.device(\"cuda\" if torch.cuda.is_available() else \"cpu\")\n",
    "device = torch.device(\"cpu\")\n",
    "\n",
    "plt.rcParams['font.size'] = 17"
   ]
  },
  {
   "cell_type": "code",
   "execution_count": 4,
   "id": "30a2cdb8-53e9-4080-a423-2319921631eb",
   "metadata": {},
   "outputs": [
    {
     "name": "stdout",
     "output_type": "stream",
     "text": [
      "English vocabulary size for training: 18639\n",
      "Italian vocabulary size for training: 31632\n",
      "--------------------------------------------\n",
      "Train set dimension: 140027\n",
      "Val set dimension: 20068\n",
      "Test set dimension: 39905\n"
     ]
    }
   ],
   "source": [
    "## DATASET PARAMETERS ##\n",
    "data_path = \"Data/eng_ita.tsv\"\n",
    "limit_data = 400000\n",
    "start_token = '<BoS>'\n",
    "end_token = '<EoS>'\n",
    "seq_len = 15\n",
    "embedding_size = 256\n",
    "batch_size = 100\n",
    "\n",
    "# Import datasets\n",
    "dataset = LanguageDataset(data_path = data_path, start_token = start_token, end_token = end_token, seq_len = seq_len, limit_data = limit_data)\n",
    "train_set, val_set, test_set = dataset.get_datasets()\n",
    "\n",
    "end_index = dataset.from_ita[end_token]\n",
    "start_index = dataset.from_ita[start_token]\n",
    "\n",
    "# Create dataloaders\n",
    "trainloader = DataLoader(train_set, batch_size = batch_size)\n",
    "valloader = DataLoader(val_set, batch_size = batch_size)\n",
    "testloader = DataLoader(test_set, batch_size = batch_size)\n",
    "\n",
    "# Vocabulary for BLUE score\n",
    "blue_voc = dataset.blue_score_test\n",
    "\n",
    "print(\"English vocabulary size for training: {}\".format(dataset.eng_voc_size))\n",
    "print(\"Italian vocabulary size for training: {}\".format(dataset.ita_voc_size))\n",
    "print(\"--------------------------------------------\")\n",
    "print(\"Train set dimension: {}\".format(train_set.__len__()))\n",
    "print(\"Val set dimension: {}\".format(val_set.__len__()))\n",
    "print(\"Test set dimension: {}\".format(test_set.__len__()))"
   ]
  },
  {
   "cell_type": "markdown",
   "id": "64ca830d-9527-4b2d-a86f-e4968a789e89",
   "metadata": {},
   "source": [
    "## Model defition"
   ]
  },
  {
   "cell_type": "code",
   "execution_count": 5,
   "id": "c0674a3c-32e3-4d42-88e0-b233d86412dc",
   "metadata": {},
   "outputs": [],
   "source": [
    "encoder = EncoderLSTM(vocabulary_size = dataset.eng_voc_size,\n",
    "                     embedding_size = embedding_size,\n",
    "                     num_layers = 1, \n",
    "                     bidirectional = False)\n",
    "\n",
    "#decoder = DecoderLSTM(vocabulary_size = dataset.ita_voc_size,\n",
    "#                     embedding_size = embedding_size,\n",
    "#                     num_layers = 1, \n",
    "#                     bidirectional = False)\n",
    "\n",
    "decoder = AttentionDecoderLSTM(vocabulary_size = dataset.ita_voc_size,\n",
    "                     embedding_size = embedding_size,\n",
    "                     seq_len = dataset.seq_len,\n",
    "                     num_layers = 1, \n",
    "                     bidirectional = False)\n",
    "\n",
    "loss_func = CEL()\n",
    "learning_rate = 1e-4\n",
    "model = LSTModel(encoder = encoder, \n",
    "                 decoder = decoder, \n",
    "                 encoder_optimizer = Adam(encoder.parameters(), lr = learning_rate), \n",
    "                 decoder_optimizer = Adam(decoder.parameters(), lr = learning_rate),\n",
    "                 loss_function = loss_func, \n",
    "                 eos_token = end_index, \n",
    "                 bos_token = start_index)"
   ]
  },
  {
   "cell_type": "markdown",
   "id": "57f0c9d0-6103-4fce-a3ac-8e694ff75b54",
   "metadata": {},
   "source": [
    "## Model training"
   ]
  },
  {
   "cell_type": "code",
   "execution_count": 9,
   "id": "40ae8e94-aa64-466e-820b-f1563aa47331",
   "metadata": {},
   "outputs": [
    {
     "name": "stdout",
     "output_type": "stream",
     "text": [
      "\u001b[34mEPOCH 1:\u001b[0m train loss = 3.291, validation loss = 2.891\n",
      "\u001b[34mEPOCH 2:\u001b[0m train loss = 2.793, validation loss = 2.76\n",
      "\u001b[34mEPOCH 3:\u001b[0m train loss = 2.653, validation loss = 2.65\n",
      "\u001b[34mEPOCH 4:\u001b[0m train loss = 2.532, validation loss = 2.558\n",
      "\u001b[34mEPOCH 5:\u001b[0m train loss = 2.424, validation loss = 2.481\n",
      "\u001b[34mEPOCH 6:\u001b[0m train loss = 2.327, validation loss = 2.414\n",
      "\u001b[34mEPOCH 7:\u001b[0m train loss = 2.239, validation loss = 2.358\n",
      "\u001b[34mEPOCH 8:\u001b[0m train loss = 2.156, validation loss = 2.309\n",
      "\u001b[34mEPOCH 9:\u001b[0m train loss = 2.079, validation loss = 2.265\n",
      "\u001b[34mEPOCH 10:\u001b[0m train loss = 2.009, validation loss = 2.228\n",
      "\u001b[34mEPOCH 11:\u001b[0m train loss = 1.944, validation loss = 2.191\n",
      "\u001b[34mEPOCH 12:\u001b[0m train loss = 1.882, validation loss = 2.159\n",
      "\u001b[34mEPOCH 13:\u001b[0m train loss = 1.824, validation loss = 2.13\n",
      "\u001b[34mEPOCH 14:\u001b[0m train loss = 1.768, validation loss = 2.103\n",
      "\u001b[34mEPOCH 15:\u001b[0m train loss = 1.716, validation loss = 2.08\n",
      "\u001b[34mEPOCH 16:\u001b[0m train loss = 1.668, validation loss = 2.053\n",
      "\u001b[34mEPOCH 17:\u001b[0m train loss = 1.627, validation loss = 2.046\n",
      "\u001b[34mEPOCH 18:\u001b[0m train loss = 1.582, validation loss = 2.015\n",
      "\u001b[34mEPOCH 19:\u001b[0m train loss = 1.535, validation loss = 1.998\n",
      "\u001b[34mEPOCH 20:\u001b[0m train loss = 1.491, validation loss = 1.983\n",
      "\u001b[34mEPOCH 21:\u001b[0m train loss = 1.45, validation loss = 1.97\n",
      "\u001b[34mEPOCH 22:\u001b[0m train loss = 1.412, validation loss = 1.959\n",
      "\u001b[34mEPOCH 23:\u001b[0m train loss = 1.376, validation loss = 1.947\n",
      "\u001b[34mEPOCH 24:\u001b[0m train loss = 1.342, validation loss = 1.945\n",
      "\u001b[34mEPOCH 25:\u001b[0m train loss = 1.31, validation loss = 1.939\n",
      "\u001b[34mEPOCH 26:\u001b[0m train loss = 1.281, validation loss = 1.931\n",
      "\u001b[34mEPOCH 27:\u001b[0m train loss = 1.253, validation loss = 1.922\n",
      "\u001b[34mEPOCH 28:\u001b[0m train loss = 1.227, validation loss = 1.923\n",
      "\u001b[34mEPOCH 29:\u001b[0m train loss = 1.207, validation loss = 1.905\n",
      "\u001b[34mEPOCH 30:\u001b[0m train loss = 1.199, validation loss = 1.929\n",
      "--------------------------------\n",
      "Time required: 859.407160282135\n"
     ]
    },
    {
     "data": {
      "image/png": "[encoded data removed]",
      "text/plain": [
       "<Figure size 432x288 with 1 Axes>"
      ]
     },
     "metadata": {
      "needs_background": "light"
     },
     "output_type": "display_data"
    }
   ],
   "source": [
    "start_time = time.time()\n",
    "L_train, L_val = model.train_model(trainloader,\n",
    "                      valloader,\n",
    "                      max_epochs = 60,\n",
    "                      save_every_epochs = 20,\n",
    "                      ckp_name = 'test')\n",
    "print(\"--------------------------------\")\n",
    "print(\"Time required: {}\".format(time.time()-start_time))\n",
    "      \n",
    "fig, ax = plt.subplots()\n",
    "ax.plot(L_train, linewidth = 3, label = \"Train\")\n",
    "ax.plot(L_val, linewidth = 3, label = \"Val\")\n",
    "ax.set_xlabel(\"Epochs\")\n",
    "ax.set_ylabel(\"Loss\")\n",
    "ax.legend();"
   ]
  },
  {
   "cell_type": "markdown",
   "id": "1ded7f08-8449-430a-894e-0b25c1257349",
   "metadata": {},
   "source": [
    "## Model evaluation"
   ]
  },
  {
   "cell_type": "code",
   "execution_count": 6,
   "id": "1bc40e5f-0eb9-4e39-a34c-9f45b926d501",
   "metadata": {},
   "outputs": [],
   "source": [
    "enc_ckp = \"test_enc_30.pth\"\n",
    "dec_ckp = \"test_dec_30.pth\"\n",
    "\n",
    "X, y, trans = model.evaluate_model(testloader, enc_ckp = enc_ckp, dec_ckp = dec_ckp)\n",
    "\n",
    "X_blue = dataset.translate(X,\"eng\")\n",
    "y_blue = dataset.translate(y,\"ita\")\n",
    "trans_blue = dataset.translate(trans,\"ita\")"
   ]
  },
  {
   "cell_type": "code",
   "execution_count": 7,
   "id": "07bbb962-e74e-44ee-819e-e3b017ba897b",
   "metadata": {},
   "outputs": [
    {
     "name": "stdout",
     "output_type": "stream",
     "text": [
      "English: You re German aren t you\n",
      "Italian: Sei tedesco vero\n",
      "Translation: Conoscevo approvo approvo approvo approvo approvo approvo approvo approvo approvo approvo approvo approvo approvo\n"
     ]
    }
   ],
   "source": [
    "ids = 34\n",
    "print(\"English: \" + ' '.join(X_blue[ids]))\n",
    "print(\"Italian: \" + ' '.join(y_blue[ids]))\n",
    "print(\"Translation: \" + ' '.join(trans_blue[ids]))"
   ]
  },
  {
   "cell_type": "code",
   "execution_count": 8,
   "id": "151727aa-4cea-4463-bb00-d0423b5dd407",
   "metadata": {},
   "outputs": [
    {
     "name": "stdout",
     "output_type": "stream",
     "text": [
      "English: Could you have done it\n",
      "Italian: Voi avreste potuto farla\n",
      "Translation: Middleton approvo approvo approvo approvo approvo approvo approvo approvo approvo approvo approvo approvo approvo\n"
     ]
    }
   ],
   "source": [
    "ids = 12\n",
    "print(\"English: \" + ' '.join(X_blue[ids]))\n",
    "print(\"Italian: \" + ' '.join(y_blue[ids]))\n",
    "print(\"Translation: \" + ' '.join(trans_blue[ids]))"
   ]
  },
  {
   "cell_type": "code",
   "execution_count": 9,
   "id": "4cbf814a-beaf-42f3-813d-efdc885f568c",
   "metadata": {},
   "outputs": [
    {
     "name": "stdout",
     "output_type": "stream",
     "text": [
      "English: How are things with you and Tom\n",
      "Italian: Come vanno le cose tra voi e Tom\n",
      "Translation: Middleton approvo approvo approvo approvo approvo approvo approvo approvo approvo approvo approvo approvo approvo\n"
     ]
    }
   ],
   "source": [
    "ids = 67\n",
    "print(\"English: \" + ' '.join(X_blue[ids]))\n",
    "print(\"Italian: \" + ' '.join(y_blue[ids]))\n",
    "print(\"Translation: \" + ' '.join(trans_blue[ids]))"
   ]
  },
  {
   "cell_type": "markdown",
   "id": "f17cee6a-faa7-4485-a09b-088e4fedcfe2",
   "metadata": {},
   "source": [
    "## BLUE score"
   ]
  },
  {
   "cell_type": "code",
   "execution_count": 19,
   "id": "0ed5d3ca-aeeb-442e-a3ae-c42cbaeddf00",
   "metadata": {},
   "outputs": [
    {
     "data": {
      "text/plain": [
       "1"
      ]
     },
     "execution_count": 19,
     "metadata": {},
     "output_type": "execute_result"
    }
   ],
   "source": [
    "len(candidate_corpus)"
   ]
  },
  {
   "cell_type": "code",
   "execution_count": 18,
   "id": "8554b2af-9b0b-40cb-bcba-88a41208a36d",
   "metadata": {},
   "outputs": [
    {
     "name": "stdout",
     "output_type": "stream",
     "text": [
      "Candidate corpus: [['Il', 'è', 'è', 'è']]\n",
      "Reference corpus: [['Il', 'server', 'non', 'funziona'], ['Il', 'server', 'è', 'fuori', 'servizio']]\n",
      "----------------\n"
     ]
    },
    {
     "ename": "AssertionError",
     "evalue": "The length of candidate and reference corpus should be the same",
     "output_type": "error",
     "traceback": [
      "\u001b[0;31m---------------------------------------------------------------------------\u001b[0m",
      "\u001b[0;31mAssertionError\u001b[0m                            Traceback (most recent call last)",
      "\u001b[0;32m/tmp/ipykernel_116884/2260045386.py\u001b[0m in \u001b[0;36m<module>\u001b[0;34m\u001b[0m\n\u001b[1;32m      7\u001b[0m \u001b[0mprint\u001b[0m\u001b[0;34m(\u001b[0m\u001b[0;34mf\"Reference corpus: {reference_corpus}\"\u001b[0m\u001b[0;34m)\u001b[0m\u001b[0;34m\u001b[0m\u001b[0;34m\u001b[0m\u001b[0m\n\u001b[1;32m      8\u001b[0m \u001b[0mprint\u001b[0m\u001b[0;34m(\u001b[0m\u001b[0;34m\"----------------\"\u001b[0m\u001b[0;34m)\u001b[0m\u001b[0;34m\u001b[0m\u001b[0;34m\u001b[0m\u001b[0m\n\u001b[0;32m----> 9\u001b[0;31m \u001b[0mbs\u001b[0m \u001b[0;34m=\u001b[0m \u001b[0mbleu_score\u001b[0m\u001b[0;34m(\u001b[0m\u001b[0mcandidate_corpus\u001b[0m\u001b[0;34m,\u001b[0m \u001b[0mreference_corpus\u001b[0m\u001b[0;34m,\u001b[0m \u001b[0mmax_n\u001b[0m \u001b[0;34m=\u001b[0m \u001b[0;36m1\u001b[0m\u001b[0;34m,\u001b[0m \u001b[0mweights\u001b[0m\u001b[0;34m=\u001b[0m\u001b[0;34m[\u001b[0m\u001b[0;36m1\u001b[0m\u001b[0;34m]\u001b[0m\u001b[0;34m)\u001b[0m\u001b[0;31m#[0.5, 0.5])\u001b[0m\u001b[0;34m\u001b[0m\u001b[0;34m\u001b[0m\u001b[0m\n\u001b[0m\u001b[1;32m     10\u001b[0m \u001b[0mprint\u001b[0m\u001b[0;34m(\u001b[0m\u001b[0;34mf\"Blue score : {bs}\"\u001b[0m\u001b[0;34m)\u001b[0m\u001b[0;34m\u001b[0m\u001b[0;34m\u001b[0m\u001b[0m\n\u001b[1;32m     11\u001b[0m \u001b[0mprint\u001b[0m\u001b[0;34m(\u001b[0m\u001b[0;34m\"----------------\"\u001b[0m\u001b[0;34m)\u001b[0m\u001b[0;34m\u001b[0m\u001b[0;34m\u001b[0m\u001b[0m\n",
      "\u001b[0;32m~/INM706/Utilities/TorchtextMetrics.py\u001b[0m in \u001b[0;36mbleu_score\u001b[0;34m(candidate_corpus, references_corpus, max_n, weights)\u001b[0m\n\u001b[1;32m     49\u001b[0m \u001b[0;34m\u001b[0m\u001b[0m\n\u001b[1;32m     50\u001b[0m     \u001b[0;32massert\u001b[0m \u001b[0mmax_n\u001b[0m \u001b[0;34m==\u001b[0m \u001b[0mlen\u001b[0m\u001b[0;34m(\u001b[0m\u001b[0mweights\u001b[0m\u001b[0;34m)\u001b[0m\u001b[0;34m,\u001b[0m \u001b[0;34m'Length of the \"weights\" list has be equal to max_n'\u001b[0m\u001b[0;34m\u001b[0m\u001b[0;34m\u001b[0m\u001b[0m\n\u001b[0;32m---> 51\u001b[0;31m     assert len(candidate_corpus) == len(\n\u001b[0m\u001b[1;32m     52\u001b[0m         \u001b[0mreferences_corpus\u001b[0m\u001b[0;34m\u001b[0m\u001b[0;34m\u001b[0m\u001b[0m\n\u001b[1;32m     53\u001b[0m     ), \"The length of candidate and reference corpus should be the same\"\n",
      "\u001b[0;31mAssertionError\u001b[0m: The length of candidate and reference corpus should be the same"
     ]
    }
   ],
   "source": [
    "id_test = 12\n",
    "\n",
    "candidate_corpus = [trans_blue[id_test]]\n",
    "reference_corpus = blue_voc[' '.join(X_blue[id_test])]\n",
    "\n",
    "print(f\"Candidate corpus: {candidate_corpus}\")\n",
    "print(f\"Reference corpus: {reference_corpus}\")\n",
    "print(\"----------------\")\n",
    "bs = bleu_score(candidate_corpus, reference_corpus, max_n = 1, weights=[1])#[0.5, 0.5])\n",
    "print(f\"Blue score : {bs}\")\n",
    "print(\"----------------\")"
   ]
  },
  {
   "cell_type": "code",
   "execution_count": null,
   "id": "ab41ffac-146d-4b81-a4f2-26c8404408cb",
   "metadata": {},
   "outputs": [],
   "source": [
    "bs_list = []\n",
    "\n",
    "for id_test, test in enumerate (trans_blue):\n",
    "    candidate_corpus = [trans_blue[id_test]]\n",
    "    reference_corpus = blue_voc[' '.join(X_blue[id_test])]\n",
    "        \n",
    "    bs = bleu_score(candidate_corpus, references_corpus, max_n = 4, weights=[0.25, 0.25, 0.25,0.25])\n",
    "    bs_list.append(bs)"
   ]
  },
  {
   "cell_type": "code",
   "execution_count": null,
   "id": "76e00c53-2f9c-4bde-a99b-d04410af8bc4",
   "metadata": {},
   "outputs": [],
   "source": [
    "sum(bs_list)/len(bs_list)"
   ]
  },
  {
   "cell_type": "code",
   "execution_count": null,
   "id": "1b8315fb-d189-4ebb-8bd3-08d02f5603ac",
   "metadata": {},
   "outputs": [],
   "source": [
    "max(bs_list)"
   ]
  },
  {
   "cell_type": "code",
   "execution_count": null,
   "id": "91356dec-dd58-4c58-93d6-e286dc5f33d0",
   "metadata": {},
   "outputs": [],
   "source": []
  }
 ],
 "metadata": {
  "kernelspec": {
   "display_name": "Python 3 (ipykernel)",
   "language": "python",
   "name": "python3"
  },
  "language_info": {
   "codemirror_mode": {
    "name": "ipython",
    "version": 3
   },
   "file_extension": ".py",
   "mimetype": "text/x-python",
   "name": "python",
   "nbconvert_exporter": "python",
   "pygments_lexer": "ipython3",
   "version": "3.9.5"
  }
 },
 "nbformat": 4,
 "nbformat_minor": 5
}
