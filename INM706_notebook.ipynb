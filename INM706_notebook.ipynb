{
 "cells": [
  {
   "cell_type": "markdown",
   "id": "ff82abcb-2ad2-4f6f-ac3e-d1353a6dcc6b",
   "metadata": {},
   "source": [
    "# INM706 - Deep Learning for Sequence Analysis\n",
    "\n",
    "Authors: Laerte Adami - Elisa Troschka"
   ]
  },
  {
   "cell_type": "code",
   "execution_count": 1,
   "id": "c0674a3c-32e3-4d42-88e0-b233d86412dc",
   "metadata": {},
   "outputs": [],
   "source": [
    "from Utilities.lstmHandler import EncoderLSTM, DecoderLSTM\n",
    "from Utilities.modelHandler import LSTModel\n",
    "\n",
    "from torch.nn import CrossEntropyLoss as CEL\n",
    "from torch.optim import Adam"
   ]
  },
  {
   "cell_type": "code",
   "execution_count": 2,
   "id": "b590c664-609e-49f5-95de-cfeb300009f1",
   "metadata": {},
   "outputs": [],
   "source": [
    "vocabulary_size = 100\n",
    "embedding_size = 30\n",
    "\n",
    "bos_token = '<BOS>'\n",
    "eos_token = '<EOS>'\n",
    "\n",
    "loss_func = CEL()"
   ]
  },
  {
   "cell_type": "code",
   "execution_count": 3,
   "id": "8d1ab8a8-7ef2-4c4b-9966-ee75f1460566",
   "metadata": {},
   "outputs": [],
   "source": [
    "encoder = EncoderLSTM(vocabulary_size = vocabulary_size,\n",
    "                     embedding_size = embedding_size,\n",
    "                     num_layers = 1, \n",
    "                     bidirectional = False)\n",
    "\n",
    "decoder = DecoderLSTM(vocabulary_size = vocabulary_size,\n",
    "                     embedding_size = embedding_size,\n",
    "                     num_layers = 1, \n",
    "                     bidirectional = False)"
   ]
  },
  {
   "cell_type": "code",
   "execution_count": 4,
   "id": "7c6ee13e-aa79-4dea-8003-f0819f1c44d1",
   "metadata": {},
   "outputs": [],
   "source": [
    "model = LSTModel(encoder = encoder, \n",
    "                 decoder = decoder, \n",
    "                 encoder_optimizer = Adam(encoder.parameters()), \n",
    "                 decoder_optimizer = Adam(decoder.parameters()),\n",
    "                 loss_function = loss_func, \n",
    "                 eos_token = eos_token, \n",
    "                 bos_token = bos_token)"
   ]
  },
  {
   "cell_type": "code",
   "execution_count": 8,
   "id": "d7f4375a-86f7-4793-8ce1-e1b764448a09",
   "metadata": {},
   "outputs": [
    {
     "name": "stdout",
     "output_type": "stream",
     "text": [
      "DecoderLSTM(\n",
      "  (emb): Embedding(100, 30)\n",
      "  (lstm): LSTM(30, 30, batch_first=True)\n",
      "  (relu): ReLU()\n",
      ")\n"
     ]
    }
   ],
   "source": [
    "print(decoder)"
   ]
  },
  {
   "cell_type": "code",
   "execution_count": null,
   "id": "243a9489-159e-4900-b40e-06ff96c69bcc",
   "metadata": {},
   "outputs": [],
   "source": []
  },
  {
   "cell_type": "code",
   "execution_count": 6,
   "id": "6573127a-7090-4daf-be84-9c416fd03163",
   "metadata": {},
   "outputs": [],
   "source": [
    "z = torch.zeros(2,3,4)"
   ]
  },
  {
   "cell_type": "code",
   "execution_count": 11,
   "id": "d7ef00b8-48dc-4568-a932-17380ea44780",
   "metadata": {},
   "outputs": [],
   "source": [
    "zz = z[:,-1,:].unsqueeze(1)"
   ]
  },
  {
   "cell_type": "code",
   "execution_count": 12,
   "id": "85de0607-4ed5-4862-bbe3-84e2beaa99e6",
   "metadata": {},
   "outputs": [
    {
     "data": {
      "text/plain": [
       "torch.Size([2, 1, 4])"
      ]
     },
     "execution_count": 12,
     "metadata": {},
     "output_type": "execute_result"
    }
   ],
   "source": [
    "zz.size()"
   ]
  },
  {
   "cell_type": "code",
   "execution_count": 1,
   "id": "37c05378-23eb-4f54-b45e-44f8476be04e",
   "metadata": {},
   "outputs": [],
   "source": [
    "import torch.nn as nn"
   ]
  },
  {
   "cell_type": "code",
   "execution_count": 4,
   "id": "fa439b8c-e706-4077-a5a5-0c4007495e63",
   "metadata": {},
   "outputs": [],
   "source": [
    "class EncoderLSTM(nn.Module):\n",
    "    \n",
    "    def __init__(self, vocabulary_size, embedding_size, num_layers, bidirectional):\n",
    "        \n",
    "        super(EncoderLSTM, self).__init__()\n",
    "        \n",
    "        self.emb = nn.Embedding(vocabulary_size, embedding_size)\n",
    "        self.lstm = nn.lstm(input_size = embedding_size, hidden_size = embedding_size, \n",
    "                            num_layers = num_layers, batch_first = True, bidirectional = bidirectional)\n",
    "        \n",
    "\n",
    "        \n",
    "    def forward(self, x, prev_hidden):\n",
    "        \n",
    "        x = self.emb(x)\n",
    "        output, hidden = self.lstm(x, prev_hidden)\n",
    "        \n",
    "        return output, hidden\n",
    "    \n",
    "class DecoderLSTM(nn.Module):\n",
    "    \n",
    "    def __init__(self, vocabulary_size, embedding_size, num_layers, bidirectional):\n",
    "\n",
    "        super(DecoderLSTM, self).__init__()\n",
    "        \n",
    "        self.emb = nn.Embedding(vocabulary_size, embedding_size)\n",
    "        self.lstm = nn.lstm(input_size = embedding_size, hidden_size = embedding_size, \n",
    "                            num_layers = num_layers, batch_first = True, bidirectional = bidirectional)\n",
    "        self.relu = nn.ReLU(inplace=False)\n",
    "        \n",
    "    def forward(self, x, prev_hidden):\n",
    "        \n",
    "        x = self.relu(x)\n",
    "        output, hidden = self.lstm(x, prev_hidden)\n",
    "        \n",
    "        return output, hidden\n",
    "        \n",
    "        \n",
    "        \n",
    "        \n",
    "        \n",
    "        \n",
    "        \n",
    "        "
   ]
  },
  {
   "cell_type": "code",
   "execution_count": null,
   "id": "289d55d5-fac1-43bc-8301-f0c123adc512",
   "metadata": {},
   "outputs": [],
   "source": []
  }
 ],
 "metadata": {
  "kernelspec": {
   "display_name": "Python 3 (ipykernel)",
   "language": "python",
   "name": "python3"
  },
  "language_info": {
   "codemirror_mode": {
    "name": "ipython",
    "version": 3
   },
   "file_extension": ".py",
   "mimetype": "text/x-python",
   "name": "python",
   "nbconvert_exporter": "python",
   "pygments_lexer": "ipython3",
   "version": "3.9.5"
  }
 },
 "nbformat": 4,
 "nbformat_minor": 5
}
