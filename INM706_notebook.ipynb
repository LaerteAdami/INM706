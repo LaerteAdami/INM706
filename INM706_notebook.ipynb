{
 "cells": [
  {
   "cell_type": "markdown",
   "id": "ff82abcb-2ad2-4f6f-ac3e-d1353a6dcc6b",
   "metadata": {
    "tags": []
   },
   "source": [
    "# INM706 - Deep Learning for Sequence Analysis\n",
    "\n",
    "Authors: Laerte Adami - Elisa Troschka\n",
    "\n",
    "Source: \n",
    "- https://towardsdatascience.com/a-comprehensive-guide-to-neural-machine-translation-using-seq2sequence-modelling-using-pytorch-41c9b84ba350#30b6\n",
    "- https://pytorch.org/tutorials/intermediate/seq2seq_translation_tutorial.html#evaluation\n",
    "\n",
    "Blue Score:\n",
    "- https://towardsdatascience.com/foundations-of-nlp-explained-bleu-score-and-wer-metrics-1a5ba06d812b"
   ]
  },
  {
   "cell_type": "markdown",
   "id": "397ca50d-888f-4dc7-9493-f55cead11876",
   "metadata": {},
   "source": [
    "from torchtext.data.metrics import bleu_score\n",
    "\n",
    "candidate_corpus = [['The', 'cat', 'is', 'on','the','table']]\n",
    "references_corpus = [\n",
    "    \n",
    "        [['The', 'cat', 'is', 'on','the','table']]]\n",
    "\n",
    "print(len(candidate_corpus))\n",
    "print(len(references_corpus))\n",
    "    \n",
    "                    \n",
    "bleu_score(candidate_corpus, references_corpus,max_n=4, weights=[0.25, 0.25, 0.25,0.25])"
   ]
  },
  {
   "cell_type": "code",
   "execution_count": 1,
   "id": "1d08d81c-49ae-4da4-97e6-ca5e10e9a2fa",
   "metadata": {},
   "outputs": [],
   "source": [
    "# Custom functionalities\n",
    "from Utilities.lstmHandler import EncoderLSTM, DecoderLSTM, AttentionDecoderLSTM\n",
    "from Utilities.modelHandler import LSTModel\n",
    "from Utilities.LanguageDataset import LanguageDataset\n",
    "\n",
    "import time\n",
    "import torch\n",
    "import torch.nn as nn\n",
    "from torch.optim import Adam\n",
    "from torch.utils.data import DataLoader\n",
    "from torch.nn import CrossEntropyLoss as CEL\n",
    "import matplotlib.pyplot as plt\n",
    "\n",
    "device = torch.device(\"cuda\" if torch.cuda.is_available() else \"cpu\")\n",
    "device = torch.device(\"cpu\")\n",
    "\n",
    "plt.rcParams['font.size'] = 17"
   ]
  },
  {
   "cell_type": "code",
   "execution_count": 9,
   "id": "30a2cdb8-53e9-4080-a423-2319921631eb",
   "metadata": {},
   "outputs": [
    {
     "name": "stdout",
     "output_type": "stream",
     "text": [
      "English vocabulary size for training: 3892\n",
      "Italian vocabulary size for training: 6168\n",
      "--------------------------------------------\n",
      "Train set dimension: 6980\n",
      "Val set dimension: 980\n",
      "Test set dimension: 2040\n"
     ]
    }
   ],
   "source": [
    "## DATASET PARAMETERS ##\n",
    "data_path = \"Data/eng_ita.tsv\"\n",
    "limit_data = 10000\n",
    "start_token = '<BoS>'\n",
    "end_token = '<EoS>'\n",
    "seq_len = 10\n",
    "embedding_size = 256\n",
    "batch_size = 100\n",
    "\n",
    "# Import datasets\n",
    "dataset = LanguageDataset(data_path = data_path, start_token = start_token, end_token = end_token, seq_len = seq_len, limit_data = limit_data)\n",
    "train_set, val_set, test_set = dataset.get_datasets()\n",
    "\n",
    "end_index = dataset.from_ita[end_token]\n",
    "start_index = dataset.from_ita[start_token]\n",
    "\n",
    "# Create dataloaders\n",
    "trainloader = DataLoader(train_set, batch_size = batch_size)\n",
    "valloader = DataLoader(val_set, batch_size = batch_size)\n",
    "testloader = DataLoader(test_set, batch_size = batch_size)\n",
    "\n",
    "print(\"English vocabulary size for training: {}\".format(dataset.eng_voc_size))\n",
    "print(\"Italian vocabulary size for training: {}\".format(dataset.ita_voc_size))\n",
    "print(\"--------------------------------------------\")\n",
    "print(\"Train set dimension: {}\".format(train_set.__len__()))\n",
    "print(\"Val set dimension: {}\".format(val_set.__len__()))\n",
    "print(\"Test set dimension: {}\".format(test_set.__len__()))"
   ]
  },
  {
   "cell_type": "code",
   "execution_count": 11,
   "id": "c0674a3c-32e3-4d42-88e0-b233d86412dc",
   "metadata": {},
   "outputs": [
    {
     "name": "stdout",
     "output_type": "stream",
     "text": [
      "\u001b[34mEPOCH 1:\u001b[0m train loss = 5.043, validation loss = 4.393\n",
      "\u001b[34mEPOCH 2:\u001b[0m train loss = 4.328, validation loss = 4.325\n",
      "\u001b[34mEPOCH 3:\u001b[0m train loss = 4.19, validation loss = 4.321\n",
      "\u001b[34mEPOCH 4:\u001b[0m train loss = 4.072, validation loss = 4.333\n",
      "\u001b[34mEPOCH 5:\u001b[0m train loss = 3.952, validation loss = 4.253\n",
      "\u001b[34mEPOCH 6:\u001b[0m train loss = 3.845, validation loss = 4.217\n",
      "\u001b[34mEPOCH 7:\u001b[0m train loss = 3.708, validation loss = 4.181\n",
      "\u001b[34mEPOCH 8:\u001b[0m train loss = 3.553, validation loss = 4.155\n",
      "\u001b[34mEPOCH 9:\u001b[0m train loss = 3.386, validation loss = 4.138\n",
      "\u001b[34mEPOCH 10:\u001b[0m train loss = 3.231, validation loss = 4.116\n",
      "--------------------------------\n",
      "Time required: 14.189102172851562\n"
     ]
    },
    {
     "data": {
      "image/png": "[encoded data removed]",
      "text/plain": [
       "<Figure size 432x288 with 1 Axes>"
      ]
     },
     "metadata": {
      "needs_background": "light"
     },
     "output_type": "display_data"
    }
   ],
   "source": [
    "encoder = EncoderLSTM(vocabulary_size = dataset.eng_voc_size,\n",
    "                     embedding_size = embedding_size,\n",
    "                     num_layers = 1, \n",
    "                     bidirectional = False)\n",
    "\n",
    "#decoder = DecoderLSTM(vocabulary_size = dataset.ita_voc_size,\n",
    "#                     embedding_size = embedding_size,\n",
    "#                     num_layers = 1, \n",
    "#                     bidirectional = False)\n",
    "\n",
    "decoder = AttentionDecoderLSTM(vocabulary_size = dataset.ita_voc_size,\n",
    "                     embedding_size = embedding_size,\n",
    "                     seq_len = dataset.seq_len,\n",
    "                     num_layers = 1, \n",
    "                     bidirectional = False)\n",
    "\n",
    "loss_func = CEL()\n",
    "model = LSTModel(encoder = encoder, \n",
    "                 decoder = decoder, \n",
    "                 encoder_optimizer = Adam(encoder.parameters()), \n",
    "                 decoder_optimizer = Adam(decoder.parameters()),\n",
    "                 loss_function = loss_func, \n",
    "                 eos_token = end_index, \n",
    "                 bos_token = start_index)\n",
    "\n",
    "start_time = time.time()\n",
    "L_train, L_val = model.train_model(trainloader,\n",
    "                      valloader,\n",
    "                      max_epochs = 10,\n",
    "                      save_every_epochs = 10,\n",
    "                      ckp_name = 'test')\n",
    "print(\"--------------------------------\")\n",
    "print(\"Time required: {}\".format(time.time()-start_time))\n",
    "      \n",
    "fig, ax = plt.subplots()\n",
    "ax.plot(L_train, linewidth = 3, label = \"Train\")\n",
    "ax.plot(L_val, linewidth = 3, label = \"Val\")\n",
    "ax.set_xlabel(\"Epochs\")\n",
    "ax.set_ylabel(\"Loss\")\n",
    "ax.legend();"
   ]
  },
  {
   "cell_type": "markdown",
   "id": "1ded7f08-8449-430a-894e-0b25c1257349",
   "metadata": {},
   "source": [
    "## Evaluation"
   ]
  },
  {
   "cell_type": "code",
   "execution_count": 12,
   "id": "1bc40e5f-0eb9-4e39-a34c-9f45b926d501",
   "metadata": {},
   "outputs": [],
   "source": [
    "enc_ckp = \"test_enc_10.pth\"\n",
    "dec_ckp = \"test_dec_10.pth\"\n",
    "\n",
    "X, y, trans = model.evaluate_model(testloader, max_length = 20, enc_ckp = enc_ckp, dec_ckp = dec_ckp)"
   ]
  },
  {
   "cell_type": "code",
   "execution_count": 13,
   "id": "07bbb962-e74e-44ee-819e-e3b017ba897b",
   "metadata": {},
   "outputs": [
    {
     "name": "stdout",
     "output_type": "stream",
     "text": [
      "English:  <BoS> It is up to you to decide what to\n",
      "Italian:  <BoS> Sta a te decidere cosa vuoi fare <EoS> <UNK>\n",
      "Translation:  <BoS> È è che cosa <EoS> <EoS> <UNK> <UNK> <UNK>\n"
     ]
    }
   ],
   "source": [
    "ids = 34\n",
    "print(\"English: \" + dataset.translate(X[ids],'eng'))\n",
    "print(\"Italian: \" + dataset.translate(y[ids],'ita'))\n",
    "print(\"Translation: \" + dataset.translate(trans[ids],'ita'))"
   ]
  },
  {
   "cell_type": "code",
   "execution_count": 14,
   "id": "151727aa-4cea-4463-bb00-d0423b5dd407",
   "metadata": {},
   "outputs": [
    {
     "name": "stdout",
     "output_type": "stream",
     "text": [
      "English:  <BoS> May I borrow your dictionary <EoS> <UNK> <UNK> <UNK>\n",
      "Italian:  <BoS> Posso prendere in prestito il tuo vocabolario <EoS> <UNK>\n",
      "Translation:  <BoS> La il il il la <EoS> <EoS> <UNK> <UNK>\n"
     ]
    }
   ],
   "source": [
    "ids = 12\n",
    "print(\"English: \" + dataset.translate(X[ids],'eng'))\n",
    "print(\"Italian: \" + dataset.translate(y[ids],'ita'))\n",
    "print(\"Translation: \" + dataset.translate(trans[ids],'ita'))"
   ]
  },
  {
   "cell_type": "code",
   "execution_count": 15,
   "id": "4cbf814a-beaf-42f3-813d-efdc885f568c",
   "metadata": {},
   "outputs": [
    {
     "name": "stdout",
     "output_type": "stream",
     "text": [
      "English:  <BoS> You re so impatient with me <EoS> <UNK> <UNK>\n",
      "Italian:  <BoS> È così insofferente con me <EoS> <UNK> <UNK> <UNK>\n",
      "Translation:  <BoS> Tu dovuto di di <EoS> <EoS> <EoS> <UNK> <UNK>\n"
     ]
    }
   ],
   "source": [
    "ids = 67\n",
    "print(\"English: \" + dataset.translate(X[ids],'eng'))\n",
    "print(\"Italian: \" + dataset.translate(y[ids],'ita'))\n",
    "print(\"Translation: \" + dataset.translate(trans[ids],'ita'))"
   ]
  },
  {
   "cell_type": "code",
   "execution_count": null,
   "id": "a2c44475-ea17-4490-ac84-9d884e033320",
   "metadata": {},
   "outputs": [],
   "source": []
  }
 ],
 "metadata": {
  "kernelspec": {
   "display_name": "Python 3 (ipykernel)",
   "language": "python",
   "name": "python3"
  },
  "language_info": {
   "codemirror_mode": {
    "name": "ipython",
    "version": 3
   },
   "file_extension": ".py",
   "mimetype": "text/x-python",
   "name": "python",
   "nbconvert_exporter": "python",
   "pygments_lexer": "ipython3",
   "version": "3.9.5"
  }
 },
 "nbformat": 4,
 "nbformat_minor": 5
}
