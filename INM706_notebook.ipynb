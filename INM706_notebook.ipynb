{
 "cells": [
  {
   "cell_type": "markdown",
   "id": "ff82abcb-2ad2-4f6f-ac3e-d1353a6dcc6b",
   "metadata": {
    "tags": []
   },
   "source": [
    "# INM706 - Deep Learning for Sequence Analysis\n",
    "\n",
    "Authors: Laerte Adami - Elisa Troschka"
   ]
  },
  {
   "cell_type": "code",
   "execution_count": 9,
   "id": "1d08d81c-49ae-4da4-97e6-ca5e10e9a2fa",
   "metadata": {},
   "outputs": [],
   "source": [
    "# Custom functionalities\n",
    "from Utilities.lstmHandler import EncoderLSTM, DecoderLSTM, AttentionDecoderLSTM\n",
    "from Utilities.modelHandler import LSTModel\n",
    "from Utilities.LanguageDataset import LanguageDataset\n",
    "\n",
    "import time\n",
    "import torch\n",
    "import torch.nn as nn\n",
    "from torch.optim import Adam\n",
    "from torch.utils.data import DataLoader\n",
    "from torch.nn import CrossEntropyLoss as CEL\n",
    "import matplotlib.pyplot as plt\n",
    "\n",
    "device = torch.device(\"cuda\" if torch.cuda.is_available() else \"cpu\")\n",
    "\n",
    "plt.rcParams['font.size'] = 17"
   ]
  },
  {
   "cell_type": "code",
   "execution_count": 10,
   "id": "30a2cdb8-53e9-4080-a423-2319921631eb",
   "metadata": {},
   "outputs": [
    {
     "name": "stdout",
     "output_type": "stream",
     "text": [
      "English vocabulary size for training: 18639\n",
      "Italian vocabulary size for training: 31632\n",
      "--------------------------------------------\n",
      "Train set dimension: 140082\n",
      "Val set dimension: 19888\n",
      "Test set dimension: 40030\n"
     ]
    }
   ],
   "source": [
    "## DATASET PARAMETERS ##\n",
    "data_path = \"Data/eng_ita.tsv\"\n",
    "limit_data = 200000\n",
    "start_token = '<BoS>'\n",
    "end_token = '<EoS>'\n",
    "seq_len = 15\n",
    "embedding_size = 256#1024\n",
    "batch_size = 50\n",
    "\n",
    "# Import datasets\n",
    "dataset = LanguageDataset(data_path = data_path, start_token = start_token, end_token = end_token, seq_len = seq_len, limit_data = limit_data)\n",
    "train_set, val_set, test_set = dataset.get_datasets()\n",
    "\n",
    "end_index = dataset.from_ita[end_token]\n",
    "start_index = dataset.from_ita[start_token]\n",
    "\n",
    "# Create dataloaders\n",
    "trainloader = DataLoader(train_set, batch_size = batch_size)\n",
    "valloader = DataLoader(val_set, batch_size = batch_size)\n",
    "testloader = DataLoader(test_set, batch_size = batch_size)\n",
    "\n",
    "# Vocabulary for BLUE score\n",
    "blue_voc = dataset.blue_score_test\n",
    "\n",
    "print(\"English vocabulary size for training: {}\".format(dataset.eng_voc_size))\n",
    "print(\"Italian vocabulary size for training: {}\".format(dataset.ita_voc_size))\n",
    "print(\"--------------------------------------------\")\n",
    "print(\"Train set dimension: {}\".format(train_set.__len__()))\n",
    "print(\"Val set dimension: {}\".format(val_set.__len__()))\n",
    "print(\"Test set dimension: {}\".format(test_set.__len__()))"
   ]
  },
  {
   "cell_type": "markdown",
   "id": "64ca830d-9527-4b2d-a86f-e4968a789e89",
   "metadata": {},
   "source": [
    "## Model defition"
   ]
  },
  {
   "cell_type": "code",
   "execution_count": 11,
   "id": "c0674a3c-32e3-4d42-88e0-b233d86412dc",
   "metadata": {},
   "outputs": [],
   "source": [
    "encoder = EncoderLSTM(vocabulary_size = dataset.eng_voc_size,\n",
    "                     embedding_size = embedding_size,\n",
    "                     num_layers = 1, \n",
    "                     bidirectional = True)\n",
    "\n",
    "#decoder = DecoderLSTM(vocabulary_size = dataset.ita_voc_size,\n",
    "#                     embedding_size = embedding_size,\n",
    "#                     num_layers = 1, \n",
    "#                     bidirectional = False)\n",
    "\n",
    "decoder = AttentionDecoderLSTM(vocabulary_size = dataset.ita_voc_size,\n",
    "                     embedding_size = embedding_size,\n",
    "                     seq_len = dataset.seq_len,\n",
    "                     num_layers = 1, \n",
    "                     bidirectional = True)\n",
    "\n",
    "loss_func = CEL()\n",
    "learning_rate = 1e-4\n",
    "model = LSTModel(encoder = encoder, \n",
    "                 decoder = decoder, \n",
    "                 encoder_optimizer = Adam(encoder.parameters(), lr = learning_rate), \n",
    "                 decoder_optimizer = Adam(decoder.parameters(), lr = learning_rate),\n",
    "                 loss_function = loss_func, \n",
    "                 eos_token = end_index, \n",
    "                 bos_token = start_index)"
   ]
  },
  {
   "cell_type": "markdown",
   "id": "57f0c9d0-6103-4fce-a3ac-8e694ff75b54",
   "metadata": {},
   "source": [
    "## Model training"
   ]
  },
  {
   "cell_type": "code",
   "execution_count": 12,
   "id": "40ae8e94-aa64-466e-820b-f1563aa47331",
   "metadata": {},
   "outputs": [
    {
     "name": "stdout",
     "output_type": "stream",
     "text": [
      "Working on cuda\n",
      "\u001b[34mEPOCH 1:\u001b[0m train loss = 2.867, validation loss = 2.558\n",
      "\u001b[34mEPOCH 2:\u001b[0m train loss = 2.371, validation loss = 2.324\n",
      "\u001b[34mEPOCH 3:\u001b[0m train loss = 2.112, validation loss = 2.167\n",
      "\u001b[34mEPOCH 4:\u001b[0m train loss = 1.905, validation loss = 2.057\n",
      "\u001b[34mEPOCH 5:\u001b[0m train loss = 1.734, validation loss = 1.986\n",
      "\u001b[34mEPOCH 6:\u001b[0m train loss = 1.59, validation loss = 1.915\n",
      "\u001b[34mEPOCH 7:\u001b[0m train loss = 1.467, validation loss = 1.859\n",
      "\u001b[34mEPOCH 8:\u001b[0m train loss = 1.362, validation loss = 1.817\n",
      "\u001b[34mEPOCH 9:\u001b[0m train loss = 1.275, validation loss = 1.791\n",
      "\u001b[34mEPOCH 10:\u001b[0m train loss = 1.199, validation loss = 1.763\n",
      "\u001b[34mEPOCH 11:\u001b[0m train loss = 1.129, validation loss = 1.744\n",
      "\u001b[34mEPOCH 12:\u001b[0m train loss = 1.07, validation loss = 1.735\n",
      "\u001b[34mEPOCH 13:\u001b[0m train loss = 1.024, validation loss = 1.719\n",
      "\u001b[34mEPOCH 14:\u001b[0m train loss = 0.982, validation loss = 1.712\n",
      "\u001b[34mEPOCH 15:\u001b[0m train loss = 0.935, validation loss = 1.711\n",
      "\u001b[34mEPOCH 16:\u001b[0m train loss = 0.894, validation loss = 1.71\n",
      "\u001b[34mEPOCH 17:\u001b[0m train loss = 0.864, validation loss = 1.706\n",
      "\u001b[34mEPOCH 18:\u001b[0m train loss = 0.85, validation loss = 1.732\n",
      "\u001b[34mEPOCH 19:\u001b[0m train loss = 0.826, validation loss = 1.7\n",
      "\u001b[34mEPOCH 20:\u001b[0m train loss = 0.783, validation loss = 1.718\n",
      "--------------------------------\n",
      "Time required: 1421.4356248378754\n"
     ]
    },
    {
     "data": {
      "image/png": "[encoded data removed]",
      "text/plain": [
       "<Figure size 432x288 with 1 Axes>"
      ]
     },
     "metadata": {
      "needs_background": "light"
     },
     "output_type": "display_data"
    }
   ],
   "source": [
    "start_time = time.time()\n",
    "L_train, L_val = model.train_model(trainloader,\n",
    "                      valloader,\n",
    "                      max_epochs = 20,\n",
    "                      save_every_epochs = 10,\n",
    "                      ckp_name = 'test_name')\n",
    "print(\"--------------------------------\")\n",
    "print(\"Time required: {}\".format(time.time()-start_time))\n",
    "      \n",
    "fig, ax = plt.subplots()\n",
    "ax.plot(L_train, linewidth = 3, label = \"Train\")\n",
    "ax.plot(L_val, linewidth = 3, label = \"Val\")\n",
    "ax.set_xlabel(\"Epochs\")\n",
    "ax.set_ylabel(\"Loss\")\n",
    "ax.legend();"
   ]
  },
  {
   "cell_type": "markdown",
   "id": "1ded7f08-8449-430a-894e-0b25c1257349",
   "metadata": {},
   "source": [
    "## Model evaluation"
   ]
  },
  {
   "cell_type": "code",
   "execution_count": 13,
   "id": "1bc40e5f-0eb9-4e39-a34c-9f45b926d501",
   "metadata": {},
   "outputs": [],
   "source": [
    "enc_ckp = \"test_name_enc_10.pth\"\n",
    "dec_ckp = \"test_name_dec_10.pth\"\n",
    "\n",
    "X, y, trans = model.evaluate_model(testloader)#, enc_ckp = enc_ckp, dec_ckp = dec_ckp)\n",
    "\n",
    "X_blue = dataset.translate(X,\"eng\")\n",
    "y_blue = dataset.translate(y,\"ita\")\n",
    "trans_blue = dataset.translate(trans,\"ita\")"
   ]
  },
  {
   "cell_type": "code",
   "execution_count": 14,
   "id": "07bbb962-e74e-44ee-819e-e3b017ba897b",
   "metadata": {},
   "outputs": [
    {
     "name": "stdout",
     "output_type": "stream",
     "text": [
      "English: He often eats fish for dinner\n",
      "Italian: Lui mangia spesso del pesce per cena\n",
      "Translation: Lui mangia per per per\n"
     ]
    }
   ],
   "source": [
    "ids = 26\n",
    "print(\"English: \" + ' '.join(X_blue[ids]))\n",
    "print(\"Italian: \" + ' '.join(y_blue[ids]))\n",
    "print(\"Translation: \" + ' '.join(trans_blue[ids]))"
   ]
  },
  {
   "cell_type": "code",
   "execution_count": 15,
   "id": "151727aa-4cea-4463-bb00-d0423b5dd407",
   "metadata": {},
   "outputs": [
    {
     "name": "stdout",
     "output_type": "stream",
     "text": [
      "English: Have you lost your tongue Why don t you answer\n",
      "Italian: Hai perso la lingua Perché non rispondi\n",
      "Translation: Hai la la tua non non hai\n"
     ]
    }
   ],
   "source": [
    "ids = 34\n",
    "print(\"English: \" + ' '.join(X_blue[ids]))\n",
    "print(\"Italian: \" + ' '.join(y_blue[ids]))\n",
    "print(\"Translation: \" + ' '.join(trans_blue[ids]))"
   ]
  },
  {
   "cell_type": "code",
   "execution_count": 16,
   "id": "4cbf814a-beaf-42f3-813d-efdc885f568c",
   "metadata": {},
   "outputs": [
    {
     "name": "stdout",
     "output_type": "stream",
     "text": [
      "English: Tom was a very funny man\n",
      "Italian: Tom era un uomo molto divertente\n",
      "Translation: Tom era un uomo uomo\n"
     ]
    }
   ],
   "source": [
    "ids = 2\n",
    "print(\"English: \" + ' '.join(X_blue[ids]))\n",
    "print(\"Italian: \" + ' '.join(y_blue[ids]))\n",
    "print(\"Translation: \" + ' '.join(trans_blue[ids]))"
   ]
  },
  {
   "cell_type": "markdown",
   "id": "f17cee6a-faa7-4485-a09b-088e4fedcfe2",
   "metadata": {},
   "source": [
    "## BLUE score"
   ]
  },
  {
   "cell_type": "code",
   "execution_count": 18,
   "id": "0ed5d3ca-aeeb-442e-a3ae-c42cbaeddf00",
   "metadata": {},
   "outputs": [],
   "source": [
    "from Utilities.TorchtextMetrics import bleu_score"
   ]
  },
  {
   "cell_type": "code",
   "execution_count": 20,
   "id": "8554b2af-9b0b-40cb-bcba-88a41208a36d",
   "metadata": {},
   "outputs": [
    {
     "name": "stdout",
     "output_type": "stream",
     "text": [
      "Candidate corpus: [['C', 'è', 'una', 'vicino', 'vicino', 'vicino', 'casa', 'casa']]\n",
      "Reference corpus: [[['C', 'è', 'una', 'chiesa', 'di', 'fianco', 'a', 'casa', 'mia'], ['C', 'è', 'una', 'chiesa', 'di', 'fianco', 'alla', 'mia', 'casa'], ['C', 'è', 'una', 'chiesa', 'accanto', 'a', 'casa', 'mia'], ['C', 'è', 'una', 'chiesa', 'accanto', 'alla', 'mia', 'casa']]]\n",
      "----------------\n",
      "Blue score : 0.5\n",
      "----------------\n"
     ]
    }
   ],
   "source": [
    "id_test = 337\n",
    "\n",
    "candidate_corpus = [trans_blue[id_test]]\n",
    "reference_corpus = [blue_voc[' '.join(X_blue[id_test])]]\n",
    "\n",
    "print(f\"Candidate corpus: {candidate_corpus}\")\n",
    "print(f\"Reference corpus: {reference_corpus}\")\n",
    "print(\"----------------\")\n",
    "bs = bleu_score(candidate_corpus, reference_corpus, max_n = 1, weights=[1])#[0.5, 0.5])\n",
    "print(f\"Blue score : {bs}\")\n",
    "print(\"----------------\")"
   ]
  },
  {
   "cell_type": "code",
   "execution_count": 21,
   "id": "ab41ffac-146d-4b81-a4f2-26c8404408cb",
   "metadata": {},
   "outputs": [],
   "source": [
    "bs_list = []\n",
    "\n",
    "for id_test, test in enumerate (trans_blue):\n",
    "    candidate_corpus = [trans_blue[id_test]]\n",
    "    reference_corpus = [blue_voc[' '.join(X_blue[id_test])]]\n",
    "        \n",
    "    bs = bleu_score(candidate_corpus, reference_corpus, max_n = 3, weights=[0.33, 0.33, 0.33])\n",
    "    bs_list.append(bs)\n",
    "    \n",
    "mean_bleu_score = sum(bs_list)/len(bs_list)"
   ]
  },
  {
   "cell_type": "code",
   "execution_count": 5,
   "id": "31108952-4065-42cf-b783-8f04f396b561",
   "metadata": {},
   "outputs": [
    {
     "name": "stdout",
     "output_type": "stream",
     "text": [
      "Mean BLEU score: 0.126\n"
     ]
    }
   ],
   "source": [
    "print(\"Mean BLEU score: {}\".format(round(mean_bleu_score,3)))"
   ]
  }
 ],
 "metadata": {
  "kernelspec": {
   "display_name": "Python 3 (ipykernel)",
   "language": "python",
   "name": "python3"
  },
  "language_info": {
   "codemirror_mode": {
    "name": "ipython",
    "version": 3
   },
   "file_extension": ".py",
   "mimetype": "text/x-python",
   "name": "python",
   "nbconvert_exporter": "python",
   "pygments_lexer": "ipython3",
   "version": "3.9.5"
  }
 },
 "nbformat": 4,
 "nbformat_minor": 5
}
