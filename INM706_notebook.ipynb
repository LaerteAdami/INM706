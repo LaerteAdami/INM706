{
 "cells": [
  {
   "cell_type": "markdown",
   "id": "ff82abcb-2ad2-4f6f-ac3e-d1353a6dcc6b",
   "metadata": {
    "tags": []
   },
   "source": [
    "# INM706 - Deep Learning for Sequence Analysis\n",
    "\n",
    "Authors: Laerte Adami - Elisa Troschka\n",
    "\n",
    "Source: \n",
    "- https://towardsdatascience.com/a-comprehensive-guide-to-neural-machine-translation-using-seq2sequence-modelling-using-pytorch-41c9b84ba350#30b6\n",
    "- https://pytorch.org/tutorials/intermediate/seq2seq_translation_tutorial.html#evaluation"
   ]
  },
  {
   "cell_type": "code",
   "execution_count": 1,
   "id": "1d08d81c-49ae-4da4-97e6-ca5e10e9a2fa",
   "metadata": {},
   "outputs": [],
   "source": [
    "import time\n",
    "from Utilities.lstmHandler import EncoderLSTM, DecoderLSTM, AttentionDecoderLSTM\n",
    "from Utilities.modelHandler import LSTModel\n",
    "from Utilities.LanguageDataset import LanguageDataset\n",
    "from torch.utils.data import DataLoader\n",
    "import matplotlib.pyplot as plt\n",
    "\n",
    "import torch\n",
    "import torch.nn as nn\n",
    "from torch.nn import CrossEntropyLoss as CEL\n",
    "from torch.optim import Adam\n",
    "\n",
    "device = torch.device(\"cuda\" if torch.cuda.is_available() else \"cpu\")\n",
    "device = torch.device(\"cpu\")\n",
    "\n",
    "plt.rcParams['font.size'] = 17"
   ]
  },
  {
   "cell_type": "code",
   "execution_count": 2,
   "id": "30a2cdb8-53e9-4080-a423-2319921631eb",
   "metadata": {},
   "outputs": [
    {
     "name": "stdout",
     "output_type": "stream",
     "text": [
      "English vocabulary size for training: 2548\n",
      "Italian vocabulary size for training: 3885\n"
     ]
    }
   ],
   "source": [
    "start_token = '<BoS>'\n",
    "end_token = '<EoS>'\n",
    "\n",
    "dataset = LanguageDataset(data_path=\"Data/eng_ita.tsv\", start_token = start_token, end_token = end_token)\n",
    "train_set, val_set, test_set = dataset.get_datasets()\n",
    "\n",
    "embedding_size = 256\n",
    "\n",
    "end_index = dataset.from_ita[end_token]\n",
    "start_index = dataset.from_ita[start_token]\n",
    "\n",
    "trainloader = DataLoader(train_set, batch_size = 100)\n",
    "\n",
    "print(\"English vocabulary size for training: {}\".format(dataset.eng_voc_size))\n",
    "print(\"Italian vocabulary size for training: {}\".format(dataset.ita_voc_size))"
   ]
  },
  {
   "cell_type": "code",
   "execution_count": 3,
   "id": "c0674a3c-32e3-4d42-88e0-b233d86412dc",
   "metadata": {},
   "outputs": [
    {
     "name": "stdout",
     "output_type": "stream",
     "text": [
      "\u001b[34mEPOCH 1:\u001b[0m train loss =  3.286\n",
      "\u001b[34mEPOCH 2:\u001b[0m train loss =  2.367\n",
      "\u001b[34mEPOCH 3:\u001b[0m train loss =  2.247\n",
      "\u001b[34mEPOCH 4:\u001b[0m train loss =  2.181\n",
      "\u001b[34mEPOCH 5:\u001b[0m train loss =  2.138\n",
      "\u001b[34mEPOCH 6:\u001b[0m train loss =  2.111\n",
      "\u001b[34mEPOCH 7:\u001b[0m train loss =  2.091\n",
      "\u001b[34mEPOCH 8:\u001b[0m train loss =  2.086\n",
      "\u001b[34mEPOCH 9:\u001b[0m train loss =  2.02\n",
      "\u001b[34mEPOCH 10:\u001b[0m train loss =  1.985\n",
      "--------------------------------\n",
      "Time required: 114.30564403533936\n"
     ]
    },
    {
     "data": {
      "image/png": "[encoded data removed]",
      "text/plain": [
       "<Figure size 432x288 with 1 Axes>"
      ]
     },
     "metadata": {
      "needs_background": "light"
     },
     "output_type": "display_data"
    }
   ],
   "source": [
    "encoder = EncoderLSTM(vocabulary_size = dataset.eng_voc_size,\n",
    "                     embedding_size = embedding_size,\n",
    "                     num_layers = 1, \n",
    "                     bidirectional = False)\n",
    "\n",
    "#decoder = DecoderLSTM(vocabulary_size = dataset.ita_voc_size,\n",
    "#                     embedding_size = embedding_size,\n",
    "#                     num_layers = 1, \n",
    "#                     bidirectional = False)\n",
    "\n",
    "decoder = AttentionDecoderLSTM(vocabulary_size = dataset.ita_voc_size,\n",
    "                     embedding_size = embedding_size,\n",
    "                     seq_len = dataset.seq_len,\n",
    "                     num_layers = 1, \n",
    "                     bidirectional = False)\n",
    "\n",
    "loss_func = CEL()\n",
    "model = LSTModel(encoder = encoder, \n",
    "                 decoder = decoder, \n",
    "                 encoder_optimizer = Adam(encoder.parameters()), \n",
    "                 decoder_optimizer = Adam(decoder.parameters()),\n",
    "                 loss_function = loss_func, \n",
    "                 eos_token = end_index, \n",
    "                 bos_token = start_index)\n",
    "\n",
    "start_time = time.time()\n",
    "L = model.train_model(trainloader, \n",
    "                  max_epochs = 10,\n",
    "                  save_every_epochs = 20,\n",
    "                  ckp_name = 'test')\n",
    "print(\"--------------------------------\")\n",
    "print(\"Time required: {}\".format(time.time()-start_time))\n",
    "      \n",
    "fig, ax = plt.subplots()\n",
    "ax.plot(L, linewidth = 3)\n",
    "ax.set_xlabel(\"Epochs\")\n",
    "ax.set_ylabel(\"Loss\");"
   ]
  },
  {
   "cell_type": "markdown",
   "id": "1ded7f08-8449-430a-894e-0b25c1257349",
   "metadata": {},
   "source": [
    "## Training"
   ]
  },
  {
   "cell_type": "code",
   "execution_count": 4,
   "id": "1bc40e5f-0eb9-4e39-a34c-9f45b926d501",
   "metadata": {},
   "outputs": [],
   "source": [
    "testloader = DataLoader(test_set, batch_size = 100)\n",
    "\n",
    "X, y, trans = model.evaluate_model(testloader, max_length=20)#, enc_ckp = \"test_enc_20.pth\", dec_ckp=\"test_dec_20.pth\")"
   ]
  },
  {
   "cell_type": "code",
   "execution_count": 8,
   "id": "07bbb962-e74e-44ee-819e-e3b017ba897b",
   "metadata": {},
   "outputs": [
    {
     "name": "stdout",
     "output_type": "stream",
     "text": [
      "English:  <BoS> Why is life so full of suffering <EoS> <UNK> <UNK> <UNK> <UNK> <UNK> <UNK> <UNK> <UNK> <UNK> <UNK> <UNK>\n",
      "Italian:  <BoS> Perché la vita è così piena di sofferenza <EoS> <UNK> <UNK> <UNK> <UNK> <UNK> <UNK> <UNK> <UNK> <UNK> <UNK>\n",
      "Translation:  <BoS> Il è è è di <EoS> <EoS> <UNK> <UNK> <UNK> <UNK> <UNK> <UNK> <UNK> <UNK> <UNK> <UNK> <UNK> <UNK>\n"
     ]
    }
   ],
   "source": [
    "ids = 34\n",
    "print(\"English: \" + dataset.translate(X[ids],'eng'))\n",
    "print(\"Italian: \" + dataset.translate(y[ids],'ita'))\n",
    "print(\"Translation: \" + dataset.translate(trans[ids],'ita'))"
   ]
  },
  {
   "cell_type": "code",
   "execution_count": 9,
   "id": "151727aa-4cea-4463-bb00-d0423b5dd407",
   "metadata": {},
   "outputs": [
    {
     "name": "stdout",
     "output_type": "stream",
     "text": [
      "English:  <BoS> Aren t you happy <EoS> <UNK> <UNK> <UNK> <UNK> <UNK> <UNK> <UNK> <UNK> <UNK> <UNK> <UNK> <UNK> <UNK> <UNK>\n",
      "Italian:  <BoS> Lei non è felice <EoS> <UNK> <UNK> <UNK> <UNK> <UNK> <UNK> <UNK> <UNK> <UNK> <UNK> <UNK> <UNK> <UNK> <UNK>\n",
      "Translation:  <BoS> Non è <EoS> <EoS> <UNK> <UNK> <UNK> <UNK> <UNK> <UNK> <UNK> <UNK> <UNK> <UNK> <UNK> <UNK> <UNK> <UNK> <UNK>\n"
     ]
    }
   ],
   "source": [
    "ids = 12\n",
    "print(\"English: \" + dataset.translate(X[ids],'eng'))\n",
    "print(\"Italian: \" + dataset.translate(y[ids],'ita'))\n",
    "print(\"Translation: \" + dataset.translate(trans[ids],'ita'))"
   ]
  },
  {
   "cell_type": "code",
   "execution_count": 10,
   "id": "4cbf814a-beaf-42f3-813d-efdc885f568c",
   "metadata": {},
   "outputs": [
    {
     "name": "stdout",
     "output_type": "stream",
     "text": [
      "English:  <BoS> Are you feeling sick <EoS> <UNK> <UNK> <UNK> <UNK> <UNK> <UNK> <UNK> <UNK> <UNK> <UNK> <UNK> <UNK> <UNK> <UNK>\n",
      "Italian:  <BoS> Vi sentite male <EoS> <UNK> <UNK> <UNK> <UNK> <UNK> <UNK> <UNK> <UNK> <UNK> <UNK> <UNK> <UNK> <UNK> <UNK> <UNK>\n",
      "Translation:  <BoS> Non è <EoS> <EoS> <UNK> <UNK> <UNK> <UNK> <UNK> <UNK> <UNK> <UNK> <UNK> <UNK> <UNK> <UNK> <UNK> <UNK> <UNK>\n"
     ]
    }
   ],
   "source": [
    "ids = 67\n",
    "print(\"English: \" + dataset.translate(X[ids],'eng'))\n",
    "print(\"Italian: \" + dataset.translate(y[ids],'ita'))\n",
    "print(\"Translation: \" + dataset.translate(trans[ids],'ita'))"
   ]
  }
 ],
 "metadata": {
  "kernelspec": {
   "display_name": "Python 3 (ipykernel)",
   "language": "python",
   "name": "python3"
  },
  "language_info": {
   "codemirror_mode": {
    "name": "ipython",
    "version": 3
   },
   "file_extension": ".py",
   "mimetype": "text/x-python",
   "name": "python",
   "nbconvert_exporter": "python",
   "pygments_lexer": "ipython3",
   "version": "3.9.5"
  }
 },
 "nbformat": 4,
 "nbformat_minor": 5
}
