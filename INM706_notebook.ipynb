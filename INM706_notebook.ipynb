{
 "cells": [
  {
   "cell_type": "markdown",
   "id": "ff82abcb-2ad2-4f6f-ac3e-d1353a6dcc6b",
   "metadata": {
    "tags": []
   },
   "source": [
    "# INM706 - Deep Learning for Sequence Analysis\n",
    "\n",
    "Authors: Laerte Adami - Elisa Troschka\n",
    "\n",
    "Source: \n",
    "- https://towardsdatascience.com/a-comprehensive-guide-to-neural-machine-translation-using-seq2sequence-modelling-using-pytorch-41c9b84ba350#30b6\n",
    "- https://pytorch.org/tutorials/intermediate/seq2seq_translation_tutorial.html#evaluation\n",
    "\n",
    "Blue Score:\n",
    "- https://towardsdatascience.com/foundations-of-nlp-explained-bleu-score-and-wer-metrics-1a5ba06d812b"
   ]
  },
  {
   "cell_type": "code",
   "execution_count": 9,
   "id": "53e40955-bb40-42a2-b138-9c90da09d18f",
   "metadata": {},
   "outputs": [
    {
     "ename": "ImportError",
     "evalue": "/opt/apps/flight/env/conda+jupyter/lib/python3.9/site-packages/torchtext/_torchtext.so: undefined symbol: _ZNK3c104Type14isSubtypeOfExtERKSt10shared_ptrIS0_EPSo",
     "output_type": "error",
     "traceback": [
      "\u001b[0;31m---------------------------------------------------------------------------\u001b[0m",
      "\u001b[0;31mImportError\u001b[0m                               Traceback (most recent call last)",
      "\u001b[0;32m/tmp/ipykernel_188689/2227551286.py\u001b[0m in \u001b[0;36m<module>\u001b[0;34m\u001b[0m\n\u001b[0;32m----> 1\u001b[0;31m \u001b[0;32mfrom\u001b[0m \u001b[0mtorchtext\u001b[0m\u001b[0;34m.\u001b[0m\u001b[0mdata\u001b[0m\u001b[0;34m.\u001b[0m\u001b[0mmetrics\u001b[0m \u001b[0;32mimport\u001b[0m \u001b[0mbleu_score\u001b[0m\u001b[0;34m\u001b[0m\u001b[0;34m\u001b[0m\u001b[0m\n\u001b[0m\u001b[1;32m      2\u001b[0m \u001b[0;34m\u001b[0m\u001b[0m\n\u001b[1;32m      3\u001b[0m \u001b[0mcandidate_corpus\u001b[0m \u001b[0;34m=\u001b[0m \u001b[0;34m[\u001b[0m\u001b[0;34m[\u001b[0m\u001b[0;34m'The'\u001b[0m\u001b[0;34m,\u001b[0m \u001b[0;34m'cat'\u001b[0m\u001b[0;34m,\u001b[0m \u001b[0;34m'is'\u001b[0m\u001b[0;34m,\u001b[0m \u001b[0;34m'on'\u001b[0m\u001b[0;34m,\u001b[0m\u001b[0;34m'the'\u001b[0m\u001b[0;34m,\u001b[0m\u001b[0;34m'table'\u001b[0m\u001b[0;34m]\u001b[0m\u001b[0;34m]\u001b[0m\u001b[0;34m\u001b[0m\u001b[0;34m\u001b[0m\u001b[0m\n\u001b[1;32m      4\u001b[0m references_corpus = [\n\u001b[1;32m      5\u001b[0m \u001b[0;34m\u001b[0m\u001b[0m\n",
      "\u001b[0;32m/opt/apps/flight/env/conda+jupyter/lib/python3.9/site-packages/torchtext/__init__.py\u001b[0m in \u001b[0;36m<module>\u001b[0;34m\u001b[0m\n\u001b[1;32m      3\u001b[0m \u001b[0;32mfrom\u001b[0m \u001b[0;34m.\u001b[0m \u001b[0;32mimport\u001b[0m \u001b[0mdatasets\u001b[0m\u001b[0;34m\u001b[0m\u001b[0;34m\u001b[0m\u001b[0m\n\u001b[1;32m      4\u001b[0m \u001b[0;32mfrom\u001b[0m \u001b[0;34m.\u001b[0m \u001b[0;32mimport\u001b[0m \u001b[0mutils\u001b[0m\u001b[0;34m\u001b[0m\u001b[0;34m\u001b[0m\u001b[0m\n\u001b[0;32m----> 5\u001b[0;31m \u001b[0;32mfrom\u001b[0m \u001b[0;34m.\u001b[0m \u001b[0;32mimport\u001b[0m \u001b[0mvocab\u001b[0m\u001b[0;34m\u001b[0m\u001b[0;34m\u001b[0m\u001b[0m\n\u001b[0m\u001b[1;32m      6\u001b[0m \u001b[0;32mfrom\u001b[0m \u001b[0;34m.\u001b[0m \u001b[0;32mimport\u001b[0m \u001b[0mlegacy\u001b[0m\u001b[0;34m\u001b[0m\u001b[0;34m\u001b[0m\u001b[0m\n\u001b[1;32m      7\u001b[0m \u001b[0;32mfrom\u001b[0m \u001b[0;34m.\u001b[0m\u001b[0m_extension\u001b[0m \u001b[0;32mimport\u001b[0m \u001b[0m_init_extension\u001b[0m\u001b[0;34m\u001b[0m\u001b[0;34m\u001b[0m\u001b[0m\n",
      "\u001b[0;32m/opt/apps/flight/env/conda+jupyter/lib/python3.9/site-packages/torchtext/vocab/__init__.py\u001b[0m in \u001b[0;36m<module>\u001b[0;34m\u001b[0m\n\u001b[1;32m      9\u001b[0m )\n\u001b[1;32m     10\u001b[0m \u001b[0;34m\u001b[0m\u001b[0m\n\u001b[0;32m---> 11\u001b[0;31m from .vocab_factory import (\n\u001b[0m\u001b[1;32m     12\u001b[0m     \u001b[0mvocab\u001b[0m\u001b[0;34m,\u001b[0m\u001b[0;34m\u001b[0m\u001b[0;34m\u001b[0m\u001b[0m\n\u001b[1;32m     13\u001b[0m     \u001b[0mbuild_vocab_from_iterator\u001b[0m\u001b[0;34m,\u001b[0m\u001b[0;34m\u001b[0m\u001b[0;34m\u001b[0m\u001b[0m\n",
      "\u001b[0;32m/opt/apps/flight/env/conda+jupyter/lib/python3.9/site-packages/torchtext/vocab/vocab_factory.py\u001b[0m in \u001b[0;36m<module>\u001b[0;34m\u001b[0m\n\u001b[1;32m      2\u001b[0m \u001b[0;32mfrom\u001b[0m \u001b[0mtyping\u001b[0m \u001b[0;32mimport\u001b[0m \u001b[0mDict\u001b[0m\u001b[0;34m,\u001b[0m \u001b[0mIterable\u001b[0m\u001b[0;34m,\u001b[0m \u001b[0mOptional\u001b[0m\u001b[0;34m,\u001b[0m \u001b[0mList\u001b[0m\u001b[0;34m\u001b[0m\u001b[0;34m\u001b[0m\u001b[0m\n\u001b[1;32m      3\u001b[0m \u001b[0;32mfrom\u001b[0m \u001b[0mcollections\u001b[0m \u001b[0;32mimport\u001b[0m \u001b[0mCounter\u001b[0m\u001b[0;34m,\u001b[0m \u001b[0mOrderedDict\u001b[0m\u001b[0;34m\u001b[0m\u001b[0;34m\u001b[0m\u001b[0m\n\u001b[0;32m----> 4\u001b[0;31m from torchtext._torchtext import (\n\u001b[0m\u001b[1;32m      5\u001b[0m     \u001b[0mVocab\u001b[0m \u001b[0;32mas\u001b[0m \u001b[0mVocabPybind\u001b[0m\u001b[0;34m,\u001b[0m\u001b[0;34m\u001b[0m\u001b[0;34m\u001b[0m\u001b[0m\n\u001b[1;32m      6\u001b[0m )\n",
      "\u001b[0;31mImportError\u001b[0m: /opt/apps/flight/env/conda+jupyter/lib/python3.9/site-packages/torchtext/_torchtext.so: undefined symbol: _ZNK3c104Type14isSubtypeOfExtERKSt10shared_ptrIS0_EPSo"
     ]
    }
   ],
   "source": [
    "from torchtext.data.metrics import bleu_score\n",
    "\n",
    "candidate_corpus = [['The', 'cat', 'is', 'on','the','table']]\n",
    "references_corpus = [\n",
    "    \n",
    "        [['The', 'cat', 'is', 'on','the','table']]]\n",
    "\n",
    "print(len(candidate_corpus))\n",
    "print(len(references_corpus))\n",
    "    \n",
    "                    \n",
    "bleu_score(candidate_corpus, references_corpus,max_n=4, weights=[0.25, 0.25, 0.25,0.25])"
   ]
  },
  {
   "cell_type": "code",
   "execution_count": 1,
   "id": "1d08d81c-49ae-4da4-97e6-ca5e10e9a2fa",
   "metadata": {},
   "outputs": [],
   "source": [
    "import time\n",
    "from Utilities.lstmHandler import EncoderLSTM, DecoderLSTM, AttentionDecoderLSTM\n",
    "from Utilities.modelHandler import LSTModel\n",
    "from Utilities.LanguageDataset import LanguageDataset\n",
    "from torch.utils.data import DataLoader\n",
    "import matplotlib.pyplot as plt\n",
    "\n",
    "import torch\n",
    "import torch.nn as nn\n",
    "from torch.nn import CrossEntropyLoss as CEL\n",
    "from torch.optim import Adam\n",
    "\n",
    "device = torch.device(\"cuda\" if torch.cuda.is_available() else \"cpu\")\n",
    "device = torch.device(\"cpu\")\n",
    "\n",
    "plt.rcParams['font.size'] = 17"
   ]
  },
  {
   "cell_type": "code",
   "execution_count": 2,
   "id": "30a2cdb8-53e9-4080-a423-2319921631eb",
   "metadata": {},
   "outputs": [
    {
     "name": "stdout",
     "output_type": "stream",
     "text": [
      "English vocabulary size for training: 8115\n",
      "Italian vocabulary size for training: 13426\n"
     ]
    }
   ],
   "source": [
    "start_token = '<BoS>'\n",
    "end_token = '<EoS>'\n",
    "\n",
    "dataset = LanguageDataset(data_path=\"Data/eng_ita.tsv\", start_token = start_token, end_token = end_token, seq_len = 10)\n",
    "train_set, val_set, test_set = dataset.get_datasets()\n",
    "\n",
    "embedding_size = 256\n",
    "\n",
    "end_index = dataset.from_ita[end_token]\n",
    "start_index = dataset.from_ita[start_token]\n",
    "\n",
    "trainloader = DataLoader(train_set, batch_size = 100)\n",
    "\n",
    "print(\"English vocabulary size for training: {}\".format(dataset.eng_voc_size))\n",
    "print(\"Italian vocabulary size for training: {}\".format(dataset.ita_voc_size))"
   ]
  },
  {
   "cell_type": "code",
   "execution_count": 3,
   "id": "c0674a3c-32e3-4d42-88e0-b233d86412dc",
   "metadata": {},
   "outputs": [
    {
     "name": "stdout",
     "output_type": "stream",
     "text": [
      "\u001b[34mEPOCH 1:\u001b[0m train loss =  4.695\n",
      "\u001b[34mEPOCH 2:\u001b[0m train loss =  4.095\n",
      "\u001b[34mEPOCH 3:\u001b[0m train loss =  3.728\n",
      "\u001b[34mEPOCH 4:\u001b[0m train loss =  3.39\n",
      "\u001b[34mEPOCH 5:\u001b[0m train loss =  3.08\n",
      "\u001b[34mEPOCH 6:\u001b[0m train loss =  2.798\n",
      "\u001b[34mEPOCH 7:\u001b[0m train loss =  2.548\n",
      "\u001b[34mEPOCH 8:\u001b[0m train loss =  2.321\n",
      "\u001b[34mEPOCH 9:\u001b[0m train loss =  2.126\n",
      "\u001b[34mEPOCH 10:\u001b[0m train loss =  1.953\n",
      "--------------------------------\n",
      "Time required: 66.80890822410583\n"
     ]
    },
    {
     "data": {
      "image/png": "[encoded data removed]",
      "text/plain": [
       "<Figure size 432x288 with 1 Axes>"
      ]
     },
     "metadata": {
      "needs_background": "light"
     },
     "output_type": "display_data"
    }
   ],
   "source": [
    "encoder = EncoderLSTM(vocabulary_size = dataset.eng_voc_size,\n",
    "                     embedding_size = embedding_size,\n",
    "                     num_layers = 1, \n",
    "                     bidirectional = False)\n",
    "\n",
    "#decoder = DecoderLSTM(vocabulary_size = dataset.ita_voc_size,\n",
    "#                     embedding_size = embedding_size,\n",
    "#                     num_layers = 1, \n",
    "#                     bidirectional = False)\n",
    "\n",
    "decoder = AttentionDecoderLSTM(vocabulary_size = dataset.ita_voc_size,\n",
    "                     embedding_size = embedding_size,\n",
    "                     seq_len = dataset.seq_len,\n",
    "                     num_layers = 1, \n",
    "                     bidirectional = False)\n",
    "\n",
    "loss_func = CEL()\n",
    "model = LSTModel(encoder = encoder, \n",
    "                 decoder = decoder, \n",
    "                 encoder_optimizer = Adam(encoder.parameters()), \n",
    "                 decoder_optimizer = Adam(decoder.parameters()),\n",
    "                 loss_function = loss_func, \n",
    "                 eos_token = end_index, \n",
    "                 bos_token = start_index)\n",
    "\n",
    "start_time = time.time()\n",
    "L = model.train_model(trainloader, \n",
    "                  max_epochs = 10,\n",
    "                  save_every_epochs = 20,\n",
    "                  ckp_name = 'test')\n",
    "print(\"--------------------------------\")\n",
    "print(\"Time required: {}\".format(time.time()-start_time))\n",
    "      \n",
    "fig, ax = plt.subplots()\n",
    "ax.plot(L, linewidth = 3)\n",
    "ax.set_xlabel(\"Epochs\")\n",
    "ax.set_ylabel(\"Loss\");"
   ]
  },
  {
   "cell_type": "markdown",
   "id": "1ded7f08-8449-430a-894e-0b25c1257349",
   "metadata": {},
   "source": [
    "## Evaluation"
   ]
  },
  {
   "cell_type": "code",
   "execution_count": 5,
   "id": "1bc40e5f-0eb9-4e39-a34c-9f45b926d501",
   "metadata": {},
   "outputs": [],
   "source": [
    "testloader = DataLoader(test_set, batch_size = 100)\n",
    "\n",
    "X, y, trans = model.evaluate_model(testloader, max_length=20)#, enc_ckp = \"test_enc_20.pth\", dec_ckp=\"test_dec_20.pth\")"
   ]
  },
  {
   "cell_type": "code",
   "execution_count": 6,
   "id": "07bbb962-e74e-44ee-819e-e3b017ba897b",
   "metadata": {},
   "outputs": [
    {
     "name": "stdout",
     "output_type": "stream",
     "text": [
      "English:  <BoS> The mayor governed the city very wisely <EoS> <UNK>\n",
      "Italian:  <BoS> Il sindaco dirige la città molto coscienziosamente <EoS> <UNK>\n",
      "Translation:  <BoS> Il città è è la della della <EoS> <EoS>\n"
     ]
    }
   ],
   "source": [
    "ids = 34\n",
    "print(\"English: \" + dataset.translate(X[ids],'eng'))\n",
    "print(\"Italian: \" + dataset.translate(y[ids],'ita'))\n",
    "print(\"Translation: \" + dataset.translate(trans[ids],'ita'))"
   ]
  },
  {
   "cell_type": "code",
   "execution_count": 7,
   "id": "151727aa-4cea-4463-bb00-d0423b5dd407",
   "metadata": {},
   "outputs": [
    {
     "name": "stdout",
     "output_type": "stream",
     "text": [
      "English:  <BoS> When do you play tennis <EoS> <UNK> <UNK> <UNK>\n",
      "Italian:  <BoS> Quando giocate a tennis <EoS> <UNK> <UNK> <UNK> <UNK>\n",
      "Translation:  <BoS> Quando a a tennis <EoS> <UNK> <UNK> <UNK> <UNK>\n"
     ]
    }
   ],
   "source": [
    "ids = 12\n",
    "print(\"English: \" + dataset.translate(X[ids],'eng'))\n",
    "print(\"Italian: \" + dataset.translate(y[ids],'ita'))\n",
    "print(\"Translation: \" + dataset.translate(trans[ids],'ita'))"
   ]
  },
  {
   "cell_type": "code",
   "execution_count": 8,
   "id": "4cbf814a-beaf-42f3-813d-efdc885f568c",
   "metadata": {},
   "outputs": [
    {
     "name": "stdout",
     "output_type": "stream",
     "text": [
      "English:  <BoS> The prisoner was set at liberty yesterday <EoS> <UNK>\n",
      "Italian:  <BoS> Il prigioniero è stato messo in libertà ieri <EoS>\n",
      "Translation:  <BoS> Il era era era stata ieri <EoS> <EoS> <UNK>\n"
     ]
    }
   ],
   "source": [
    "ids = 67\n",
    "print(\"English: \" + dataset.translate(X[ids],'eng'))\n",
    "print(\"Italian: \" + dataset.translate(y[ids],'ita'))\n",
    "print(\"Translation: \" + dataset.translate(trans[ids],'ita'))"
   ]
  },
  {
   "cell_type": "code",
   "execution_count": null,
   "id": "a2c44475-ea17-4490-ac84-9d884e033320",
   "metadata": {},
   "outputs": [],
   "source": []
  }
 ],
 "metadata": {
  "kernelspec": {
   "display_name": "Python 3 (ipykernel)",
   "language": "python",
   "name": "python3"
  },
  "language_info": {
   "codemirror_mode": {
    "name": "ipython",
    "version": 3
   },
   "file_extension": ".py",
   "mimetype": "text/x-python",
   "name": "python",
   "nbconvert_exporter": "python",
   "pygments_lexer": "ipython3",
   "version": "3.9.5"
  }
 },
 "nbformat": 4,
 "nbformat_minor": 5
}
