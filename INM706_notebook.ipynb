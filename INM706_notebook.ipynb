{
 "cells": [
  {
   "cell_type": "markdown",
   "id": "ff82abcb-2ad2-4f6f-ac3e-d1353a6dcc6b",
   "metadata": {},
   "source": [
    "# INM706 - Deep Learning for Sequence Analysis\n",
    "\n",
    "Authors: Laerte Adami - Elisa Troschka"
   ]
  },
  {
   "cell_type": "code",
   "execution_count": 1,
   "id": "c0674a3c-32e3-4d42-88e0-b233d86412dc",
   "metadata": {},
   "outputs": [],
   "source": [
    "import time\n",
    "from Utilities.lstmHandler import EncoderLSTM, DecoderLSTM\n",
    "from Utilities.modelHandler import LSTModel\n",
    "from LanguageDataset import LanguageDataset, my_collate_fn\n",
    "from torch.utils.data import DataLoader\n",
    "\n",
    "import torch\n",
    "import torch.nn as nn\n",
    "from torch.nn import CrossEntropyLoss as CEL\n",
    "from torch.optim import Adam\n",
    "\n",
    "device = torch.device(\"cuda\" if torch.cuda.is_available() else \"cpu\")\n",
    "#device = torch.device(\"cpu\")"
   ]
  },
  {
   "cell_type": "code",
   "execution_count": 2,
   "id": "8769f65d-60b0-4bf6-a31b-271183251810",
   "metadata": {},
   "outputs": [
    {
     "name": "stdout",
     "output_type": "stream",
     "text": [
      "English vocabulary size: 157\n"
     ]
    }
   ],
   "source": [
    "start_token = '<BoS>'\n",
    "end_token = '<EoS>'\n",
    "\n",
    "dataset = LanguageDataset(data_path=\"Data/eng_ita.tsv\", start_token = start_token, end_token = end_token)\n",
    "\n",
    "vocabulary_size = dataset.eng_voc_size\n",
    "embedding_size = 256\n",
    "\n",
    "loss_func = CEL()\n",
    "\n",
    "end_index = dataset.from_ita[end_token]\n",
    "start_index = dataset.from_ita[start_token]\n",
    "\n",
    "trainloader = DataLoader(dataset, batch_size = 32, collate_fn = my_collate_fn)\n",
    "\n",
    "print(\"English vocabulary size: {}\".format(vocabulary_size))"
   ]
  },
  {
   "cell_type": "code",
   "execution_count": 3,
   "id": "8d1ab8a8-7ef2-4c4b-9966-ee75f1460566",
   "metadata": {},
   "outputs": [],
   "source": [
    "encoder = EncoderLSTM(vocabulary_size = vocabulary_size,\n",
    "                     embedding_size = embedding_size,\n",
    "                     num_layers = 1, \n",
    "                     bidirectional = False)\n",
    "\n",
    "decoder = DecoderLSTM(vocabulary_size = dataset.ita_voc_size,\n",
    "                     embedding_size = embedding_size,\n",
    "                     num_layers = 1, \n",
    "                     bidirectional = False)"
   ]
  },
  {
   "cell_type": "code",
   "execution_count": 4,
   "id": "7c6ee13e-aa79-4dea-8003-f0819f1c44d1",
   "metadata": {},
   "outputs": [],
   "source": [
    "model = LSTModel(encoder = encoder, \n",
    "                 decoder = decoder, \n",
    "                 encoder_optimizer = Adam(encoder.parameters()), \n",
    "                 decoder_optimizer = Adam(decoder.parameters()),\n",
    "                 loss_function = loss_func, \n",
    "                 eos_token = end_index, \n",
    "                 bos_token = start_index)"
   ]
  },
  {
   "cell_type": "code",
   "execution_count": 5,
   "id": "d7f4375a-86f7-4793-8ce1-e1b764448a09",
   "metadata": {},
   "outputs": [
    {
     "name": "stdout",
     "output_type": "stream",
     "text": [
      "Completed epoch: 0, loss: 60.21760940551758\n",
      "Time required: 7.196247339248657\n"
     ]
    }
   ],
   "source": [
    "start_time = time.time()\n",
    "model.train_model(trainloader, \n",
    "                  max_epochs = 1,\n",
    "                  save_every_epochs = 10,\n",
    "                  ckp_name = '.')\n",
    "print(\"Time required: {}\".format(time.time()-start_time))"
   ]
  },
  {
   "cell_type": "code",
   "execution_count": 7,
   "id": "b043dffc-3407-4a61-9712-3167466df160",
   "metadata": {},
   "outputs": [],
   "source": [
    "eng_sent, ita_sent = dataset.__getitem__(1)"
   ]
  },
  {
   "cell_type": "code",
   "execution_count": 8,
   "id": "79545a30-c66c-43db-bfea-fe82fbe9c6d7",
   "metadata": {},
   "outputs": [
    {
     "data": {
      "text/plain": [
       "tensor([ 71,  68, 140,   6,   5,   6, 132, 136])"
      ]
     },
     "execution_count": 8,
     "metadata": {},
     "output_type": "execute_result"
    }
   ],
   "source": [
    "eng_sent"
   ]
  },
  {
   "cell_type": "code",
   "execution_count": 9,
   "id": "a209c62b-0d84-478d-b3a6-7256991cbaf8",
   "metadata": {},
   "outputs": [
    {
     "data": {
      "text/plain": [
       "tensor([115,  11,  82, 151, 152, 185])"
      ]
     },
     "execution_count": 9,
     "metadata": {},
     "output_type": "execute_result"
    }
   ],
   "source": [
    "ita_sent"
   ]
  },
  {
   "cell_type": "code",
   "execution_count": 18,
   "id": "c3e2acfb-209b-4102-8b5c-697b5f59d066",
   "metadata": {},
   "outputs": [
    {
     "data": {
      "text/plain": [
       "79"
      ]
     },
     "execution_count": 18,
     "metadata": {},
     "output_type": "execute_result"
    }
   ],
   "source": [
    "dataset.from_ita[\"io\"]"
   ]
  },
  {
   "cell_type": "code",
   "execution_count": 20,
   "id": "661c9d62-93dd-44ec-86d6-61d792745faa",
   "metadata": {},
   "outputs": [],
   "source": [
    "model.encoder.eval()\n",
    "model.decoder.eval();"
   ]
  },
  {
   "cell_type": "code",
   "execution_count": null,
   "id": "4b9fe29d-a4de-4e3d-a5aa-bd3d8d53ed25",
   "metadata": {},
   "outputs": [],
   "source": []
  }
 ],
 "metadata": {
  "kernelspec": {
   "display_name": "Python 3 (ipykernel)",
   "language": "python",
   "name": "python3"
  },
  "language_info": {
   "codemirror_mode": {
    "name": "ipython",
    "version": 3
   },
   "file_extension": ".py",
   "mimetype": "text/x-python",
   "name": "python",
   "nbconvert_exporter": "python",
   "pygments_lexer": "ipython3",
   "version": "3.9.5"
  }
 },
 "nbformat": 4,
 "nbformat_minor": 5
}
